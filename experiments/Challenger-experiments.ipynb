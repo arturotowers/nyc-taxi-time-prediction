{
 "cells": [
  {
   "cell_type": "code",
   "execution_count": 1,
   "id": "059c210f-7300-41b2-a340-518c97baeedd",
   "metadata": {},
   "outputs": [
    {
     "data": {
      "text/html": [
       "<pre style=\"white-space:pre;overflow-x:auto;line-height:normal;font-family:Menlo,'DejaVu Sans Mono',consolas,'Courier New',monospace\">Accessing as arturotowers\n",
       "</pre>\n"
      ],
      "text/plain": [
       "Accessing as arturotowers\n"
      ]
     },
     "metadata": {},
     "output_type": "display_data"
    },
    {
     "data": {
      "text/html": [
       "<pre style=\"white-space:pre;overflow-x:auto;line-height:normal;font-family:Menlo,'DejaVu Sans Mono',consolas,'Courier New',monospace\">Initialized MLflow to track repo <span style=\"color: #008000; text-decoration-color: #008000\">\"arturotowers/nyc-taxi-time-prediction\"</span>\n",
       "</pre>\n"
      ],
      "text/plain": [
       "Initialized MLflow to track repo \u001b[32m\"arturotowers/nyc-taxi-time-prediction\"\u001b[0m\n"
      ]
     },
     "metadata": {},
     "output_type": "display_data"
    },
    {
     "data": {
      "text/html": [
       "<pre style=\"white-space:pre;overflow-x:auto;line-height:normal;font-family:Menlo,'DejaVu Sans Mono',consolas,'Courier New',monospace\">Repository arturotowers/nyc-taxi-time-prediction initialized!\n",
       "</pre>\n"
      ],
      "text/plain": [
       "Repository arturotowers/nyc-taxi-time-prediction initialized!\n"
      ]
     },
     "metadata": {},
     "output_type": "display_data"
    },
    {
     "name": "stdout",
     "output_type": "stream",
     "text": [
      "https://dagshub.com/arturotowers/nyc-taxi-time-prediction.mlflow\n"
     ]
    },
    {
     "data": {
      "text/plain": [
       "<Experiment: artifact_location='mlflow-artifacts:/28559c146958489da93a281d752509c1', creation_time=1726877398258, experiment_id='2', last_update_time=1726877398258, lifecycle_stage='active', name='RandomForest_Experiment', tags={}>"
      ]
     },
     "execution_count": 1,
     "metadata": {},
     "output_type": "execute_result"
    }
   ],
   "source": [
    "import mlflow\n",
    "import dagshub\n",
    "\n",
    "# Inicializar MLflow y Dagshub\n",
    "dagshub.init(url=\"https://dagshub.com/arturotowers/nyc-taxi-time-prediction.git\", mlflow=True)\n",
    "MLFLOW_TRACKING_URI = mlflow.get_tracking_uri()\n",
    "\n",
    "print(MLFLOW_TRACKING_URI)\n",
    "\n",
    "\n",
    "mlflow.set_tracking_uri(MLFLOW_TRACKING_URI)\n",
    "\n",
    "mlflow.set_experiment(\"GradientBoosting_Experiment\")\n",
    "mlflow.set_experiment(\"RandomForest_Experiment\")"
   ]
  },
  {
   "cell_type": "code",
   "execution_count": 2,
   "id": "bebff105-8de1-4a5a-af28-f902a372b90a",
   "metadata": {},
   "outputs": [
    {
     "name": "stdout",
     "output_type": "stream",
     "text": [
      "Files downloaded successfully!\n"
     ]
    }
   ],
   "source": [
    "import os\n",
    "import requests\n",
    "\n",
    "# Create the directory if it doesn't exist\n",
    "os.makedirs('../data', exist_ok=True)\n",
    "\n",
    "# Download files using requests\n",
    "url1 = 'https://d37ci6vzurychx.cloudfront.net/trip-data/green_tripdata_2024-01.parquet'\n",
    "url2 = 'https://d37ci6vzurychx.cloudfront.net/trip-data/green_tripdata_2024-02.parquet'\n",
    "\n",
    "# Define the file paths\n",
    "file_path1 = '../data/green_tripdata_2024-01.parquet'\n",
    "file_path2 = '../data/green_tripdata_2024-02.parquet'\n",
    "\n",
    "# Download and save the first file\n",
    "response = requests.get(url1)\n",
    "with open(file_path1, 'wb') as f:\n",
    "    f.write(response.content)\n",
    "\n",
    "# Download and save the second file\n",
    "response = requests.get(url2)\n",
    "with open(file_path2, 'wb') as f:\n",
    "    f.write(response.content)\n",
    "\n",
    "print('Files downloaded successfully!')"
   ]
  },
  {
   "cell_type": "code",
   "execution_count": 3,
   "id": "f3360903-73e1-40a2-b9b5-5821d7f3dc7c",
   "metadata": {},
   "outputs": [],
   "source": [
    "import pickle\n",
    "import pandas as pd\n",
    "from sklearn.metrics import  root_mean_squared_error\n",
    "from sklearn.feature_extraction import  DictVectorizer\n",
    "from sklearn.linear_model import Lasso, Ridge, LinearRegression"
   ]
  },
  {
   "cell_type": "code",
   "execution_count": 4,
   "id": "6b5150aa-bcf8-4e93-ae06-a79d6f736f24",
   "metadata": {},
   "outputs": [],
   "source": [
    "def read_dataframe(filename):\n",
    "\n",
    "    df = pd.read_parquet(filename)\n",
    "\n",
    "    df['duration'] = df.lpep_dropoff_datetime - df.lpep_pickup_datetime\n",
    "    df.duration = df.duration.apply(lambda td: td.total_seconds() / 60)\n",
    "\n",
    "    df = df[(df.duration >= 1) & (df.duration <= 60)]\n",
    "\n",
    "    categorical = ['PULocationID', 'DOLocationID']\n",
    "    df[categorical] = df[categorical].astype(str)\n",
    "\n",
    "    return df"
   ]
  },
  {
   "cell_type": "code",
   "execution_count": 5,
   "id": "72ec8b17-2f09-4695-bdbf-b66eb98abdc8",
   "metadata": {},
   "outputs": [],
   "source": [
    "df_train = read_dataframe('../data/green_tripdata_2024-01.parquet')\n",
    "df_val = read_dataframe('../data/green_tripdata_2024-02.parquet')"
   ]
  },
  {
   "cell_type": "code",
   "execution_count": 6,
   "id": "67ca9dd6-406e-402b-b750-3eca0f0db730",
   "metadata": {},
   "outputs": [],
   "source": [
    "df_train['PU_DO'] = df_train['PULocationID'] + '_' + df_train['DOLocationID']\n",
    "df_val['PU_DO'] = df_val['PULocationID'] + '_' + df_val['DOLocationID']"
   ]
  },
  {
   "cell_type": "code",
   "execution_count": 7,
   "id": "8b38a89e-170b-4185-b7e9-2ae4c2386081",
   "metadata": {},
   "outputs": [],
   "source": [
    "categorical = ['PU_DO']  #'PULocationID', 'DOLocationID']\n",
    "numerical = ['trip_distance']\n",
    "dv = DictVectorizer()\n",
    "\n",
    "train_dicts = df_train[categorical + numerical].to_dict(orient='records')\n",
    "X_train = dv.fit_transform(train_dicts)\n",
    "\n",
    "val_dicts = df_val[categorical + numerical].to_dict(orient='records')\n",
    "X_val = dv.transform(val_dicts)"
   ]
  },
  {
   "cell_type": "code",
   "execution_count": 8,
   "id": "13349ca2-1947-4e9c-854a-438e242df068",
   "metadata": {},
   "outputs": [],
   "source": [
    "target = 'duration'\n",
    "y_train = df_train[target].values\n",
    "y_val = df_val[target].values"
   ]
  },
  {
   "cell_type": "code",
   "execution_count": 9,
   "id": "023b796c-4b7c-40fe-a5d0-1f1a7fe5b580",
   "metadata": {},
   "outputs": [
    {
     "data": {
      "text/html": [
       "<pre style=\"white-space:pre;overflow-x:auto;line-height:normal;font-family:Menlo,'DejaVu Sans Mono',consolas,'Courier New',monospace\">Client created. Use the name of the repo <span style=\"font-weight: bold\">(</span>nyc-taxi-time-prediction<span style=\"font-weight: bold\">)</span> as the name of the bucket\n",
       "</pre>\n"
      ],
      "text/plain": [
       "Client created. Use the name of the repo \u001b[1m(\u001b[0mnyc-taxi-time-prediction\u001b[1m)\u001b[0m as the name of the bucket\n"
      ]
     },
     "metadata": {},
     "output_type": "display_data"
    }
   ],
   "source": [
    "from dagshub import get_repo_bucket_client\n",
    "# Get a boto3.client object\n",
    "s3 = get_repo_bucket_client(\"arturotowers/nyc-taxi-time-prediction\")\n",
    "\n",
    "# Upload file\n",
    "s3.upload_file(\n",
    "    Bucket=\"nyc-taxi-time-prediction\",  # name of the repo\n",
    "    Filename=\"../data/green_tripdata_2024-01.parquet\",  # local path of file to upload\n",
    "    Key=\"train_data.parquet\",  # remote path where to upload the file\n",
    ")\n",
    "# Upload file\n",
    "s3.upload_file(\n",
    "    Bucket=\"nyc-taxi-time-prediction\",  # name of the repo\n",
    "    Filename=\"../data/green_tripdata_2024-02.parquet\",  # local path of file to upload\n",
    "    Key=\"eval_data.parquet\",  # remote path where to upload the file\n",
    ")"
   ]
  },
  {
   "cell_type": "code",
   "execution_count": null,
   "id": "22fec37f-51de-4d02-bc38-5de2cd10ae20",
   "metadata": {},
   "outputs": [],
   "source": [
    "from sklearn.ensemble import RandomForestRegressor\n",
    "from hyperopt import fmin, tpe, hp, STATUS_OK, Trials\n",
    "from hyperopt.pyll.base import scope\n",
    "from sklearn.metrics import mean_squared_error\n",
    "import mlflow.sklearn\n",
    "import pickle\n",
    "import pathlib"
   ]
  },
  {
   "cell_type": "code",
   "execution_count": null,
   "id": "273727cd-53f3-4490-860c-34dcaf792697",
   "metadata": {},
   "outputs": [],
   "source": [
    "# Definir la función objetivo\n",
    "def objective_rf(params):\n",
    "    with mlflow.start_run(nested=True):\n",
    "        \n",
    "        # Etiquetar modelo\n",
    "        mlflow.set_tag(\"model_family\", \"RandomForest\")\n",
    "        \n",
    "        # Registrar los parámetros\n",
    "        mlflow.log_params(params)\n",
    "        \n",
    "        # Entrenar modelo\n",
    "        model = RandomForestRegressor(**params)\n",
    "        model.fit(X_train, y_train)\n",
    "        \n",
    "        # Predecir sobre el conjunto de validación\n",
    "        y_pred = model.predict(X_val)\n",
    "        \n",
    "        # Calcular la métrica\n",
    "        rmse = mean_squared_error(y_val, y_pred, squared=False)\n",
    "        \n",
    "        # Registrar la métrica de rendimiento\n",
    "        mlflow.log_metric(\"rmse\", rmse)\n",
    "        \n",
    "        # Registrar el modelo entrenado\n",
    "        mlflow.sklearn.log_model(model, artifact_path=\"model\")\n",
    "\n",
    "    return {'loss': rmse, 'status': STATUS_OK}"
   ]
  },
  {
   "cell_type": "code",
   "execution_count": null,
   "id": "a7ede24a-bf29-430d-8b34-976e95ff22a5",
   "metadata": {},
   "outputs": [],
   "source": [
    "search_space_rf = {\n",
    "    'n_estimators': scope.int(hp.quniform('n_estimators', 100, 500, 1)),\n",
    "    'max_depth': scope.int(hp.quniform('max_depth', 5, 50, 1)),\n",
    "    'min_samples_split': scope.int(hp.quniform('min_samples_split', 2, 10, 1)),\n",
    "    'min_samples_leaf': scope.int(hp.quniform('min_samples_leaf', 1, 4, 1)),\n",
    "    'max_features': hp.choice('max_features', ['sqrt', 'log2', None]),\n",
    "    'bootstrap': hp.choice('bootstrap', [True, False])\n",
    "}\n",
    "\n",
    "# Realizar la búsqueda de hiperparámetros\n",
    "with mlflow.start_run(run_name=\"RandomForest Hyper-parameter Optimization\", nested=True):\n",
    "    best_params_rf = fmin(\n",
    "        fn=objective_rf,\n",
    "        space=search_space_rf,\n",
    "        algo=tpe.suggest,\n",
    "        max_evals=10,\n",
    "        trials=Trials()\n",
    "    )\n",
    "    \n",
    "    # Log best params\n",
    "    best_params_rf['n_estimators'] = int(best_params_rf['n_estimators'])\n",
    "    best_params_rf['max_depth'] = int(best_params_rf['max_depth'])\n",
    "    best_params_rf['min_samples_split'] = int(best_params_rf['min_samples_split'])\n",
    "    best_params_rf['min_samples_leaf'] = int(best_params_rf['min_samples_leaf'])\n",
    "    best_params_rf['bootstrap'] = bool(best_params_rf['bootstrap'])\n",
    "    mlflow.log_params(best_params_rf)\n",
    "\n",
    "    # Log tags\n",
    "    mlflow.set_tags({\n",
    "        \"project\": \"NYC Taxi Time Prediction Project\",\n",
    "        \"optimizer_engine\": \"hyper-opt\",\n",
    "        \"model_family\": \"RandomForest\",\n",
    "        \"feature_set_version\": 1\n",
    "    })\n",
    "\n",
    "    # Log a fit model instance\n",
    "    best_model_rf = RandomForestRegressor(**best_params_rf)\n",
    "    best_model_rf.fit(X_train, y_train)\n",
    "    \n",
    "    y_pred_rf = best_model_rf.predict(X_val)\n",
    "    rmse_rf = mean_squared_error(y_val, y_pred_rf, squared=False)\n",
    "    mlflow.log_metric(\"rmse\", rmse_rf)\n",
    "\n",
    "    pathlib.Path(\"models\").mkdir(exist_ok=True)\n",
    "    with open(\"models/preprocessor.b\", \"wb\") as f_out:\n",
    "        pickle.dump(dv, f_out)\n",
    "\n",
    "    mlflow.log_artifact(\"models/preprocessor.b\", artifact_path=\"preprocessor\")"
   ]
  },
  {
   "cell_type": "code",
   "execution_count": null,
   "id": "a27c652e-dcee-47dd-8858-943fbc9fc8ab",
   "metadata": {},
   "outputs": [],
   "source": [
    "# Declarar el modelo con los parámetros específicos\n",
    "best_model_rf = RandomForestRegressor(\n",
    "    bootstrap=False,\n",
    "    max_depth=15,  # int\n",
    "    max_features=2,  # int\n",
    "    min_samples_leaf=3,  # int\n",
    "    min_samples_split=4,  # int\n",
    "    n_estimators=389  # int\n",
    ")\n",
    "\n",
    "# Ajustar el modelo\n",
    "best_model_rf.fit(X_train, y_train)\n",
    "\n",
    "# Predecir y calcular RMSE\n",
    "y_pred_rf = best_model_rf.predict(X_val)\n",
    "rmse_rf = mean_squared_error(y_val, y_pred_rf, squared=False)\n",
    "mlflow.log_metric(\"rmse\", rmse_rf)\n",
    "\n",
    "# Guardar el preprocesador\n",
    "pathlib.Path(\"models\").mkdir(exist_ok=True)\n",
    "with open(\"models/preprocessor.b\", \"wb\") as f_out:\n",
    "    pickle.dump(dv, f_out)\n",
    "\n",
    "mlflow.log_artifact(\"models/preprocessor.b\", artifact_path=\"preprocessor\")"
   ]
  },
  {
   "cell_type": "code",
   "execution_count": null,
   "id": "526b93de-10d1-4a01-84f7-cb0190d26ac3",
   "metadata": {},
   "outputs": [],
   "source": [
    "from sklearn.ensemble import GradientBoostingRegressor\n",
    "\n",
    "# Definir la función objetivo para GradientBoosting\n",
    "def objective_gb(params):\n",
    "    with mlflow.start_run(nested=True):\n",
    "        \n",
    "        # Etiquetar modelo\n",
    "        mlflow.set_tag(\"model_family\", \"GradientBoosting\")\n",
    "        \n",
    "        # Registrar los parámetros\n",
    "        mlflow.log_params(params)\n",
    "        \n",
    "        # Entrenar modelo\n",
    "        model = GradientBoostingRegressor(**params)\n",
    "        model.fit(X_train, y_train)\n",
    "        \n",
    "        # Predecir sobre el conjunto de validación\n",
    "        y_pred = model.predict(X_val)\n",
    "        \n",
    "        # Calcular la métrica\n",
    "        rmse = mean_squared_error(y_val, y_pred, squared=False)\n",
    "        \n",
    "        # Registrar la métrica de rendimiento\n",
    "        mlflow.log_metric(\"rmse\", rmse)\n",
    "        \n",
    "        # Registrar el modelo entrenado\n",
    "        mlflow.sklearn.log_model(model, artifact_path=\"model\")\n",
    "\n",
    "    return {'loss': rmse, 'status': STATUS_OK}"
   ]
  },
  {
   "cell_type": "code",
   "execution_count": null,
   "id": "cdc8102e-00c6-43f0-97dd-ad01c62d5177",
   "metadata": {},
   "outputs": [],
   "source": [
    "# Definir el espacio de búsqueda para GradientBoosting\n",
    "search_space_gb = {\n",
    "    'n_estimators': scope.int(hp.quniform('n_estimators', 100, 500, 1)),\n",
    "    'max_depth': scope.int(hp.quniform('max_depth', 3, 30, 1)),\n",
    "    'learning_rate': hp.loguniform('learning_rate', -3, 0),\n",
    "    'subsample': hp.uniform('subsample', 0.5, 1.0),\n",
    "    'min_samples_split': scope.int(hp.quniform('min_samples_split', 2, 10, 1)),\n",
    "    'min_samples_leaf': scope.int(hp.quniform('min_samples_leaf', 1, 4, 1))\n",
    "}\n",
    "\n",
    "# Realizar la búsqueda de hiperparámetros\n",
    "with mlflow.start_run(run_name=\"GradientBoosting Hyper-parameter Optimization\", nested=True):\n",
    "    best_params_gb = fmin(\n",
    "        fn=objective_gb,\n",
    "        space=search_space_gb,\n",
    "        algo=tpe.suggest,\n",
    "        max_evals=10,\n",
    "        trials=Trials()\n",
    "    )\n",
    "\n",
    "    best_params_gb['n_estimators'] = int(best_params_gb['n_estimators'])\n",
    "    best_params_gb['max_depth'] = int(best_params_gb['max_depth'])\n",
    "    best_params_gb['min_samples_split'] = int(best_params_gb['min_samples_split'])\n",
    "    best_params_gb['min_samples_leaf'] = int(best_params_gb['min_samples_leaf'])\n",
    "    # Registrar los mejores parámetros\n",
    "    mlflow.log_params(best_params_gb)\n",
    "\n",
    "    # Etiquetas del modelo\n",
    "    mlflow.set_tags({\n",
    "        \"project\": \"NYC Taxi Time Prediction Project\",\n",
    "        \"optimizer_engine\": \"hyper-opt\",\n",
    "        \"model_family\": \"GradientBoosting\",\n",
    "        \"feature_set_version\": 1\n",
    "    })\n",
    "\n",
    "    # Entrenar y registrar el mejor modelo\n",
    "    best_model_gb = GradientBoostingRegressor(**best_params_gb)\n",
    "    best_model_gb.fit(X_train, y_train)\n",
    "    \n",
    "    y_pred_gb = best_model_gb.predict(X_val)\n",
    "    rmse_gb = mean_squared_error(y_val, y_pred_gb, squared=False)\n",
    "    mlflow.log_metric(\"rmse\", rmse_gb)\n",
    "\n",
    "    pathlib.Path(\"models\").mkdir(exist_ok=True)\n",
    "    with open(\"models/preprocessor.b\", \"wb\") as f_out:\n",
    "        pickle.dump(dv, f_out)\n",
    "\n",
    "    mlflow.log_artifact(\"models/preprocessor.b\", artifact_path=\"preprocessor\")"
   ]
  },
  {
   "cell_type": "code",
   "execution_count": null,
   "id": "2d360345-6f26-4195-a0a6-5799c0dba662",
   "metadata": {},
   "outputs": [],
   "source": [
    "print(f\"RMSE GradientBoostingRegressor: {rmse_gb}\")\n",
    "print(f\"RMSE RandomForestRegressor: {rmse_rf}\")"
   ]
  },
  {
   "cell_type": "code",
   "execution_count": null,
   "id": "9358a667-1a01-4a00-a713-99ffd725abb3",
   "metadata": {},
   "outputs": [],
   "source": [
    "if rmse_gb < rmse_rf:\n",
    "    best_rmse = rmse_gb\n",
    "    best_model_name = \"GradientBoostingRegressor\"\n",
    "else:\n",
    "    best_rmse = rmse_rf\n",
    "    best_model_name = \"RandomForestRegressor\"\n",
    "\n",
    "print(f\"Mejor modelo: {best_model_name} con RMSE: {best_rmse}\")"
   ]
  },
  {
   "cell_type": "code",
   "execution_count": 29,
   "id": "ae6bda52-6eb0-414e-8dea-f595c611eda2",
   "metadata": {},
   "outputs": [
    {
     "name": "stderr",
     "output_type": "stream",
     "text": [
      "Registered model 'nyc-taxi-model' already exists. Creating a new version of this model...\n",
      "2024/09/20 22:10:15 INFO mlflow.store.model_registry.abstract_store: Waiting up to 300 seconds for model version to finish creation. Model name: nyc-taxi-model, version 7\n",
      "Created version '7' of model 'nyc-taxi-model'.\n"
     ]
    }
   ],
   "source": [
    "# Registrar el mejor modelo en el model registry\n",
    "best_run_id = \"153069cf7f9840d996517f0976673cd5\"\n",
    "model_uri=f\"runs:/{best_run_id}/model\"\n",
    "result = mlflow.register_model(model_uri, \"nyc-taxi-model\")"
   ]
  },
  {
   "cell_type": "code",
   "execution_count": 31,
   "id": "26304919-481b-4e1e-8e14-229570cc0e70",
   "metadata": {},
   "outputs": [
    {
     "data": {
      "text/plain": [
       "<ModelVersion: aliases=['challenger'], creation_timestamp=1726891815085, current_stage='None', description=('The model version 7 was transitioned to challenger on 2024-09-20 '\n",
       " '22:10:44.628925'), last_updated_timestamp=1726891844339, name='nyc-taxi-model', run_id='153069cf7f9840d996517f0976673cd5', run_link='', source='mlflow-artifacts:/28559c146958489da93a281d752509c1/153069cf7f9840d996517f0976673cd5/artifacts/model', status='READY', status_message='', tags={}, user_id='', version='7'>"
      ]
     },
     "execution_count": 31,
     "metadata": {},
     "output_type": "execute_result"
    }
   ],
   "source": [
    "from datetime import datetime\n",
    "from mlflow import MlflowClient\n",
    "\n",
    "client = MlflowClient(tracking_uri=MLFLOW_TRACKING_URI)\n",
    "client.update_registered_model(\n",
    "    name=\"nyc-taxi-model\",\n",
    "    description=\"Best model of HW 5\",\n",
    ")\n",
    "\n",
    "new_alias = \"challenger\"\n",
    "date = datetime.today()\n",
    "model_version = result.version\n",
    "\n",
    "client.set_registered_model_alias(\n",
    "    name=\"nyc-taxi-model\",\n",
    "    alias=new_alias,\n",
    "    version=model_version\n",
    ")\n",
    "\n",
    "client.update_model_version(\n",
    "    name=\"nyc-taxi-model\",\n",
    "    version=model_version,\n",
    "    description=f\"The model version {model_version} was transitioned to {new_alias} on {date}\",\n",
    ")"
   ]
  },
  {
   "cell_type": "code",
   "execution_count": 10,
   "id": "8270f6f9-e2fc-4034-a390-36d2cbcf808e",
   "metadata": {},
   "outputs": [
    {
     "name": "stderr",
     "output_type": "stream",
     "text": [
      "  % Total    % Received % Xferd  Average Speed   Time    Time     Time  Current\n",
      "                                 Dload  Upload   Total   Spent    Left  Speed\n",
      "\n",
      "  0     0    0     0    0     0      0      0 --:--:-- --:--:-- --:--:--     0\n",
      " 64 1340k   64  861k    0     0  1666k      0 --:--:-- --:--:-- --:--:-- 1669k\n",
      "100 1340k  100 1340k    0     0  2461k      0 --:--:-- --:--:-- --:--:-- 2468k\n"
     ]
    }
   ],
   "source": [
    "!curl -o ../data/green_tripdata_2024-03.parquet https://d37ci6vzurychx.cloudfront.net/trip-data/green_tripdata_2024-03.parquet"
   ]
  },
  {
   "cell_type": "code",
   "execution_count": 11,
   "id": "d7cef668-850c-4db4-9087-221a4defcbd6",
   "metadata": {},
   "outputs": [],
   "source": [
    "df_test = read_dataframe('../data/green_tripdata_2024-03.parquet')"
   ]
  },
  {
   "cell_type": "code",
   "execution_count": 12,
   "id": "1c74accf-0877-44a1-82e6-5788b2c5108f",
   "metadata": {},
   "outputs": [],
   "source": [
    "df_test['PU_DO'] = df_test['PULocationID'] + '_' + df_test['DOLocationID']\n",
    "categorical = ['PU_DO']\n",
    "numerical = ['trip_distance']\n",
    "test_dicts = df_test[categorical + numerical].to_dict(orient='records')\n",
    "X_test = dv.transform(test_dicts)\n",
    "y_test = df_test['duration'].values"
   ]
  },
  {
   "cell_type": "code",
   "execution_count": 33,
   "id": "9b6bd237-e053-4d7a-b18a-da1e2f081b40",
   "metadata": {},
   "outputs": [],
   "source": [
    "import mlflow.pyfunc"
   ]
  },
  {
   "cell_type": "code",
   "execution_count": 34,
   "id": "43c3e7b4-93c6-4349-b6ab-8f91d596ab03",
   "metadata": {},
   "outputs": [
    {
     "data": {
      "application/vnd.jupyter.widget-view+json": {
       "model_id": "db53c9353f234aef89f3886bae607b44",
       "version_major": 2,
       "version_minor": 0
      },
      "text/plain": [
       "Downloading artifacts:   0%|          | 0/5 [00:00<?, ?it/s]"
      ]
     },
     "metadata": {},
     "output_type": "display_data"
    }
   ],
   "source": [
    "champion_model = mlflow.pyfunc.load_model(model_uri=\"models:/nyc-taxi-model/5\")"
   ]
  },
  {
   "cell_type": "code",
   "execution_count": 39,
   "id": "b8500529-0f75-40b2-82d0-e39a8b58b014",
   "metadata": {},
   "outputs": [
    {
     "data": {
      "application/vnd.jupyter.widget-view+json": {
       "model_id": "ef5ede1a0d4a4006930382d31b13ee7e",
       "version_major": 2,
       "version_minor": 0
      },
      "text/plain": [
       "Downloading artifacts:   0%|          | 0/1 [00:00<?, ?it/s]"
      ]
     },
     "metadata": {},
     "output_type": "display_data"
    },
    {
     "ename": "MlflowException",
     "evalue": "The following failures occurred while downloading one or more artifacts from https://dagshub.com/arturotowers/nyc-taxi-time-prediction.mlflow/api/2.0/mlflow-artifacts/artifacts/28559c146958489da93a281d752509c1/153069cf7f9840d996517f0976673cd5/artifacts:\n##### File model #####\nAPI request to https://dagshub.com/arturotowers/nyc-taxi-time-prediction.mlflow/api/2.0/mlflow-artifacts/artifacts/28559c146958489da93a281d752509c1/153069cf7f9840d996517f0976673cd5/artifacts/model failed with exception HTTPSConnectionPool(host='dagshub.com', port=443): Max retries exceeded with url: /arturotowers/nyc-taxi-time-prediction.mlflow/api/2.0/mlflow-artifacts/artifacts/28559c146958489da93a281d752509c1/153069cf7f9840d996517f0976673cd5/artifacts/model (Caused by ResponseError('too many 500 error responses'))",
     "output_type": "error",
     "traceback": [
      "\u001b[1;31m---------------------------------------------------------------------------\u001b[0m",
      "\u001b[1;31mMlflowException\u001b[0m                           Traceback (most recent call last)",
      "Cell \u001b[1;32mIn[39], line 4\u001b[0m\n\u001b[0;32m      2\u001b[0m run_id \u001b[38;5;241m=\u001b[39m \u001b[38;5;124m\"\u001b[39m\u001b[38;5;124m153069cf7f9840d996517f0976673cd5\u001b[39m\u001b[38;5;124m\"\u001b[39m\n\u001b[0;32m      3\u001b[0m model_uri \u001b[38;5;241m=\u001b[39m \u001b[38;5;124mf\u001b[39m\u001b[38;5;124m\"\u001b[39m\u001b[38;5;124mruns:/\u001b[39m\u001b[38;5;132;01m{\u001b[39;00mrun_id\u001b[38;5;132;01m}\u001b[39;00m\u001b[38;5;124m/model\u001b[39m\u001b[38;5;124m\"\u001b[39m\n\u001b[1;32m----> 4\u001b[0m challenger_model \u001b[38;5;241m=\u001b[39m \u001b[43mmlflow\u001b[49m\u001b[38;5;241;43m.\u001b[39;49m\u001b[43mpyfunc\u001b[49m\u001b[38;5;241;43m.\u001b[39;49m\u001b[43mload_model\u001b[49m\u001b[43m(\u001b[49m\u001b[43mmodel_uri\u001b[49m\u001b[38;5;241;43m=\u001b[39;49m\u001b[43mmodel_uri\u001b[49m\u001b[43m)\u001b[49m\n",
      "File \u001b[1;32m~\\OneDrive\\Documentos\\Arturo\\Arturo HW ITESO\\5to semestre\\Proyecto Ciencia de datos\\apis\\Lib\\site-packages\\mlflow\\tracing\\provider.py:253\u001b[0m, in \u001b[0;36mtrace_disabled.<locals>.wrapper\u001b[1;34m(*args, **kwargs)\u001b[0m\n\u001b[0;32m    251\u001b[0m disable()\n\u001b[0;32m    252\u001b[0m \u001b[38;5;28;01mtry\u001b[39;00m:\n\u001b[1;32m--> 253\u001b[0m     is_func_called, result \u001b[38;5;241m=\u001b[39m \u001b[38;5;28;01mTrue\u001b[39;00m, \u001b[43mf\u001b[49m\u001b[43m(\u001b[49m\u001b[38;5;241;43m*\u001b[39;49m\u001b[43margs\u001b[49m\u001b[43m,\u001b[49m\u001b[43m \u001b[49m\u001b[38;5;241;43m*\u001b[39;49m\u001b[38;5;241;43m*\u001b[39;49m\u001b[43mkwargs\u001b[49m\u001b[43m)\u001b[49m\n\u001b[0;32m    254\u001b[0m \u001b[38;5;28;01mfinally\u001b[39;00m:\n\u001b[0;32m    255\u001b[0m     enable()\n",
      "File \u001b[1;32m~\\OneDrive\\Documentos\\Arturo\\Arturo HW ITESO\\5to semestre\\Proyecto Ciencia de datos\\apis\\Lib\\site-packages\\mlflow\\pyfunc\\__init__.py:1017\u001b[0m, in \u001b[0;36mload_model\u001b[1;34m(model_uri, suppress_warnings, dst_path, model_config)\u001b[0m\n\u001b[0;32m   1013\u001b[0m         entity_list\u001b[38;5;241m.\u001b[39mappend(Entity(job\u001b[38;5;241m=\u001b[39mjob_entity))\n\u001b[0;32m   1015\u001b[0m     lineage_header_info \u001b[38;5;241m=\u001b[39m LineageHeaderInfo(entities\u001b[38;5;241m=\u001b[39mentity_list) \u001b[38;5;28;01mif\u001b[39;00m entity_list \u001b[38;5;28;01melse\u001b[39;00m \u001b[38;5;28;01mNone\u001b[39;00m\n\u001b[1;32m-> 1017\u001b[0m local_path \u001b[38;5;241m=\u001b[39m \u001b[43m_download_artifact_from_uri\u001b[49m\u001b[43m(\u001b[49m\n\u001b[0;32m   1018\u001b[0m \u001b[43m    \u001b[49m\u001b[43martifact_uri\u001b[49m\u001b[38;5;241;43m=\u001b[39;49m\u001b[43mmodel_uri\u001b[49m\u001b[43m,\u001b[49m\u001b[43m \u001b[49m\u001b[43moutput_path\u001b[49m\u001b[38;5;241;43m=\u001b[39;49m\u001b[43mdst_path\u001b[49m\u001b[43m,\u001b[49m\u001b[43m \u001b[49m\u001b[43mlineage_header_info\u001b[49m\u001b[38;5;241;43m=\u001b[39;49m\u001b[43mlineage_header_info\u001b[49m\n\u001b[0;32m   1019\u001b[0m \u001b[43m\u001b[49m\u001b[43m)\u001b[49m\n\u001b[0;32m   1021\u001b[0m \u001b[38;5;28;01mif\u001b[39;00m \u001b[38;5;129;01mnot\u001b[39;00m suppress_warnings:\n\u001b[0;32m   1022\u001b[0m     model_requirements \u001b[38;5;241m=\u001b[39m _get_pip_requirements_from_model_path(local_path)\n",
      "File \u001b[1;32m~\\OneDrive\\Documentos\\Arturo\\Arturo HW ITESO\\5to semestre\\Proyecto Ciencia de datos\\apis\\Lib\\site-packages\\mlflow\\tracking\\artifact_utils.py:116\u001b[0m, in \u001b[0;36m_download_artifact_from_uri\u001b[1;34m(artifact_uri, output_path, lineage_header_info)\u001b[0m\n\u001b[0;32m    110\u001b[0m \u001b[38;5;28;01mif\u001b[39;00m \u001b[38;5;28misinstance\u001b[39m(repo, ModelsArtifactRepository):\n\u001b[0;32m    111\u001b[0m     \u001b[38;5;28;01mreturn\u001b[39;00m repo\u001b[38;5;241m.\u001b[39mdownload_artifacts(\n\u001b[0;32m    112\u001b[0m         artifact_path\u001b[38;5;241m=\u001b[39martifact_path,\n\u001b[0;32m    113\u001b[0m         dst_path\u001b[38;5;241m=\u001b[39moutput_path,\n\u001b[0;32m    114\u001b[0m         lineage_header_info\u001b[38;5;241m=\u001b[39mlineage_header_info,\n\u001b[0;32m    115\u001b[0m     )\n\u001b[1;32m--> 116\u001b[0m \u001b[38;5;28;01mreturn\u001b[39;00m \u001b[43mrepo\u001b[49m\u001b[38;5;241;43m.\u001b[39;49m\u001b[43mdownload_artifacts\u001b[49m\u001b[43m(\u001b[49m\u001b[43martifact_path\u001b[49m\u001b[38;5;241;43m=\u001b[39;49m\u001b[43martifact_path\u001b[49m\u001b[43m,\u001b[49m\u001b[43m \u001b[49m\u001b[43mdst_path\u001b[49m\u001b[38;5;241;43m=\u001b[39;49m\u001b[43moutput_path\u001b[49m\u001b[43m)\u001b[49m\n",
      "File \u001b[1;32m~\\OneDrive\\Documentos\\Arturo\\Arturo HW ITESO\\5to semestre\\Proyecto Ciencia de datos\\apis\\Lib\\site-packages\\mlflow\\store\\artifact\\runs_artifact_repo.py:131\u001b[0m, in \u001b[0;36mRunsArtifactRepository.download_artifacts\u001b[1;34m(self, artifact_path, dst_path)\u001b[0m\n\u001b[0;32m    114\u001b[0m \u001b[38;5;28;01mdef\u001b[39;00m \u001b[38;5;21mdownload_artifacts\u001b[39m(\u001b[38;5;28mself\u001b[39m, artifact_path, dst_path\u001b[38;5;241m=\u001b[39m\u001b[38;5;28;01mNone\u001b[39;00m):\n\u001b[0;32m    115\u001b[0m \u001b[38;5;250m    \u001b[39m\u001b[38;5;124;03m\"\"\"\u001b[39;00m\n\u001b[0;32m    116\u001b[0m \u001b[38;5;124;03m    Download an artifact file or directory to a local directory if applicable, and return a\u001b[39;00m\n\u001b[0;32m    117\u001b[0m \u001b[38;5;124;03m    local path for it.\u001b[39;00m\n\u001b[1;32m   (...)\u001b[0m\n\u001b[0;32m    129\u001b[0m \u001b[38;5;124;03m        Absolute path of the local filesystem location containing the desired artifacts.\u001b[39;00m\n\u001b[0;32m    130\u001b[0m \u001b[38;5;124;03m    \"\"\"\u001b[39;00m\n\u001b[1;32m--> 131\u001b[0m     \u001b[38;5;28;01mreturn\u001b[39;00m \u001b[38;5;28;43mself\u001b[39;49m\u001b[38;5;241;43m.\u001b[39;49m\u001b[43mrepo\u001b[49m\u001b[38;5;241;43m.\u001b[39;49m\u001b[43mdownload_artifacts\u001b[49m\u001b[43m(\u001b[49m\u001b[43martifact_path\u001b[49m\u001b[43m,\u001b[49m\u001b[43m \u001b[49m\u001b[43mdst_path\u001b[49m\u001b[43m)\u001b[49m\n",
      "File \u001b[1;32m~\\OneDrive\\Documentos\\Arturo\\Arturo HW ITESO\\5to semestre\\Proyecto Ciencia de datos\\apis\\Lib\\site-packages\\mlflow\\store\\artifact\\artifact_repo.py:284\u001b[0m, in \u001b[0;36mArtifactRepository.download_artifacts\u001b[1;34m(self, artifact_path, dst_path)\u001b[0m\n\u001b[0;32m    278\u001b[0m         template \u001b[38;5;241m=\u001b[39m \u001b[38;5;124m\"\u001b[39m\u001b[38;5;124m##### File \u001b[39m\u001b[38;5;132;01m{path}\u001b[39;00m\u001b[38;5;124m #####\u001b[39m\u001b[38;5;130;01m\\n\u001b[39;00m\u001b[38;5;132;01m{error}\u001b[39;00m\u001b[38;5;124m\"\u001b[39m\n\u001b[0;32m    280\u001b[0m     failures \u001b[38;5;241m=\u001b[39m \u001b[38;5;124m\"\u001b[39m\u001b[38;5;130;01m\\n\u001b[39;00m\u001b[38;5;124m\"\u001b[39m\u001b[38;5;241m.\u001b[39mjoin(\n\u001b[0;32m    281\u001b[0m         template\u001b[38;5;241m.\u001b[39mformat(path\u001b[38;5;241m=\u001b[39mpath, error\u001b[38;5;241m=\u001b[39merror, traceback\u001b[38;5;241m=\u001b[39mtracebacks[path])\n\u001b[0;32m    282\u001b[0m         \u001b[38;5;28;01mfor\u001b[39;00m path, error \u001b[38;5;129;01min\u001b[39;00m failed_downloads\u001b[38;5;241m.\u001b[39mitems()\n\u001b[0;32m    283\u001b[0m     )\n\u001b[1;32m--> 284\u001b[0m     \u001b[38;5;28;01mraise\u001b[39;00m MlflowException(\n\u001b[0;32m    285\u001b[0m         message\u001b[38;5;241m=\u001b[39m(\n\u001b[0;32m    286\u001b[0m             \u001b[38;5;124m\"\u001b[39m\u001b[38;5;124mThe following failures occurred while downloading one or more\u001b[39m\u001b[38;5;124m\"\u001b[39m\n\u001b[0;32m    287\u001b[0m             \u001b[38;5;124mf\u001b[39m\u001b[38;5;124m\"\u001b[39m\u001b[38;5;124m artifacts from \u001b[39m\u001b[38;5;132;01m{\u001b[39;00m\u001b[38;5;28mself\u001b[39m\u001b[38;5;241m.\u001b[39martifact_uri\u001b[38;5;132;01m}\u001b[39;00m\u001b[38;5;124m:\u001b[39m\u001b[38;5;130;01m\\n\u001b[39;00m\u001b[38;5;132;01m{\u001b[39;00m_truncate_error(failures)\u001b[38;5;132;01m}\u001b[39;00m\u001b[38;5;124m\"\u001b[39m\n\u001b[0;32m    288\u001b[0m         )\n\u001b[0;32m    289\u001b[0m     )\n\u001b[0;32m    291\u001b[0m \u001b[38;5;28;01mreturn\u001b[39;00m os\u001b[38;5;241m.\u001b[39mpath\u001b[38;5;241m.\u001b[39mjoin(dst_path, artifact_path)\n",
      "\u001b[1;31mMlflowException\u001b[0m: The following failures occurred while downloading one or more artifacts from https://dagshub.com/arturotowers/nyc-taxi-time-prediction.mlflow/api/2.0/mlflow-artifacts/artifacts/28559c146958489da93a281d752509c1/153069cf7f9840d996517f0976673cd5/artifacts:\n##### File model #####\nAPI request to https://dagshub.com/arturotowers/nyc-taxi-time-prediction.mlflow/api/2.0/mlflow-artifacts/artifacts/28559c146958489da93a281d752509c1/153069cf7f9840d996517f0976673cd5/artifacts/model failed with exception HTTPSConnectionPool(host='dagshub.com', port=443): Max retries exceeded with url: /arturotowers/nyc-taxi-time-prediction.mlflow/api/2.0/mlflow-artifacts/artifacts/28559c146958489da93a281d752509c1/153069cf7f9840d996517f0976673cd5/artifacts/model (Caused by ResponseError('too many 500 error responses'))"
     ]
    }
   ],
   "source": [
    "#challenger_model = mlflow.pyfunc.load_model(model_uri=\"models:/nyc-taxi-model/@challenger\")\n",
    "run_id = \"153069cf7f9840d996517f0976673cd5\"\n",
    "model_uri = f\"runs:/{run_id}/model\"\n",
    "challenger_model = mlflow.pyfunc.load_model(model_uri=model_uri)"
   ]
  },
  {
   "cell_type": "code",
   "execution_count": 36,
   "id": "80a1503b-94ea-4ac0-ae52-82196e45e4dc",
   "metadata": {},
   "outputs": [
    {
     "name": "stdout",
     "output_type": "stream",
     "text": [
      "<RegisteredModel: aliases={'challenger': '7', 'champion': '1'}, creation_timestamp=1726882812649, description='Best model of HW 5', last_updated_timestamp=1726891843976, latest_versions=[<ModelVersion: aliases=[], creation_timestamp=1726891815085, current_stage='None', description=('The model version 7 was transitioned to challenger on 2024-09-20 '\n",
      " '22:10:44.628925'), last_updated_timestamp=1726891844339, name='nyc-taxi-model', run_id='153069cf7f9840d996517f0976673cd5', run_link='', source='mlflow-artifacts:/28559c146958489da93a281d752509c1/153069cf7f9840d996517f0976673cd5/artifacts/model', status='READY', status_message='', tags={}, user_id='', version='7'>,\n",
      " <ModelVersion: aliases=[], creation_timestamp=1726882813057, current_stage='Staging', description=('The model version 1 was transitioned to challenger on 2024-09-20 '\n",
      " '22:08:43.005513'), last_updated_timestamp=1726891722700, name='nyc-taxi-model', run_id='153069cf7f9840d996517f0976673cd5', run_link='', source='mlflow-artifacts:/28559c146958489da93a281d752509c1/153069cf7f9840d996517f0976673cd5/artifacts/model', status='READY', status_message='', tags={}, user_id='', version='1'>], name='nyc-taxi-model', tags={}>\n"
     ]
    }
   ],
   "source": [
    "from mlflow import MlflowClient\n",
    "client = MlflowClient(tracking_uri=mlflow.get_tracking_uri())\n",
    "model = client.get_registered_model(\"nyc-taxi-model\")\n",
    "print(model)"
   ]
  },
  {
   "cell_type": "code",
   "execution_count": 37,
   "id": "096e12c3-6acf-4ae1-811d-d02cf406e9cd",
   "metadata": {},
   "outputs": [
    {
     "name": "stdout",
     "output_type": "stream",
     "text": [
      "mlflow.pyfunc.loaded_model:\n",
      "  artifact_path: model\n",
      "  flavor: mlflow.xgboost\n",
      "  run_id: 43fb6f3393fc4a28b53ce039e0f19222\n",
      "\n"
     ]
    }
   ],
   "source": [
    "print(champion_model)"
   ]
  },
  {
   "cell_type": "markdown",
   "id": "efa3187b-9807-49be-a27c-14bae45f3099",
   "metadata": {},
   "source": [
    "# No se pudo cargar el modelo challenger pero si se hubiera cargado hubiera hecho el siguiente codigo"
   ]
  },
  {
   "cell_type": "code",
   "execution_count": null,
   "id": "4ea347fb-ae45-4857-854e-c42def47e672",
   "metadata": {},
   "outputs": [],
   "source": [
    "y_pred_challenger = challenger_model.predict(X_test)\n",
    "rmse_challenger = sqrt(mean_squared_error(y_test, y_pred_challenger, squared=False))"
   ]
  },
  {
   "cell_type": "code",
   "execution_count": null,
   "id": "3e855e4f-a313-4ead-a4eb-d0d0ce4f50a0",
   "metadata": {},
   "outputs": [],
   "source": [
    "y_pred_champion = champion_model.predict(X_test)\n",
    "rmse_champion = sqrt(mean_squared_error(y_test, y_pred_champion, squared=False))"
   ]
  },
  {
   "cell_type": "markdown",
   "id": "1fdc7108-5b8c-463d-8e8e-72c1b57508a2",
   "metadata": {},
   "source": [
    "Hubiera elegido el que menor rmse hubiera tenido"
   ]
  },
  {
   "cell_type": "code",
   "execution_count": null,
   "id": "56e5ccab-e2cb-40a0-baf8-626e2e261260",
   "metadata": {},
   "outputs": [],
   "source": []
  }
 ],
 "metadata": {
  "kernelspec": {
   "display_name": "fast_api",
   "language": "python",
   "name": "fast_api"
  },
  "language_info": {
   "codemirror_mode": {
    "name": "ipython",
    "version": 3
   },
   "file_extension": ".py",
   "mimetype": "text/x-python",
   "name": "python",
   "nbconvert_exporter": "python",
   "pygments_lexer": "ipython3",
   "version": "3.12.3"
  }
 },
 "nbformat": 4,
 "nbformat_minor": 5
}
