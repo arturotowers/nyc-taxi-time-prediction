{
 "cells": [
  {
   "cell_type": "code",
   "execution_count": 1,
   "id": "059c210f-7300-41b2-a340-518c97baeedd",
   "metadata": {},
   "outputs": [
    {
     "data": {
      "text/html": [
       "<pre style=\"white-space:pre;overflow-x:auto;line-height:normal;font-family:Menlo,'DejaVu Sans Mono',consolas,'Courier New',monospace\">Accessing as arturotowers\n",
       "</pre>\n"
      ],
      "text/plain": [
       "Accessing as arturotowers\n"
      ]
     },
     "metadata": {},
     "output_type": "display_data"
    },
    {
     "data": {
      "text/html": [
       "<pre style=\"white-space:pre;overflow-x:auto;line-height:normal;font-family:Menlo,'DejaVu Sans Mono',consolas,'Courier New',monospace\">Initialized MLflow to track repo <span style=\"color: #008000; text-decoration-color: #008000\">\"arturotowers/nyc-taxi-time-prediction\"</span>\n",
       "</pre>\n"
      ],
      "text/plain": [
       "Initialized MLflow to track repo \u001b[32m\"arturotowers/nyc-taxi-time-prediction\"\u001b[0m\n"
      ]
     },
     "metadata": {},
     "output_type": "display_data"
    },
    {
     "data": {
      "text/html": [
       "<pre style=\"white-space:pre;overflow-x:auto;line-height:normal;font-family:Menlo,'DejaVu Sans Mono',consolas,'Courier New',monospace\">Repository arturotowers/nyc-taxi-time-prediction initialized!\n",
       "</pre>\n"
      ],
      "text/plain": [
       "Repository arturotowers/nyc-taxi-time-prediction initialized!\n"
      ]
     },
     "metadata": {},
     "output_type": "display_data"
    },
    {
     "name": "stdout",
     "output_type": "stream",
     "text": [
      "https://dagshub.com/arturotowers/nyc-taxi-time-prediction.mlflow\n"
     ]
    },
    {
     "name": "stderr",
     "output_type": "stream",
     "text": [
      "2024/09/20 18:09:57 INFO mlflow.tracking.fluent: Experiment with name 'GradientBoosting_Experiment' does not exist. Creating a new experiment.\n",
      "2024/09/20 18:09:57 INFO mlflow.tracking.fluent: Experiment with name 'RandomForest_Experiment' does not exist. Creating a new experiment.\n"
     ]
    },
    {
     "data": {
      "text/plain": [
       "<Experiment: artifact_location='mlflow-artifacts:/28559c146958489da93a281d752509c1', creation_time=1726877398258, experiment_id='2', last_update_time=1726877398258, lifecycle_stage='active', name='RandomForest_Experiment', tags={}>"
      ]
     },
     "execution_count": 1,
     "metadata": {},
     "output_type": "execute_result"
    }
   ],
   "source": [
    "import mlflow\n",
    "import dagshub\n",
    "\n",
    "# Inicializar MLflow y Dagshub\n",
    "dagshub.init(url=\"https://dagshub.com/arturotowers/nyc-taxi-time-prediction.git\", mlflow=True)\n",
    "MLFLOW_TRACKING_URI = mlflow.get_tracking_uri()\n",
    "\n",
    "print(MLFLOW_TRACKING_URI)\n",
    "\n",
    "\n",
    "mlflow.set_tracking_uri(MLFLOW_TRACKING_URI)\n",
    "\n",
    "mlflow.set_experiment(\"GradientBoosting_Experiment\")\n",
    "mlflow.set_experiment(\"RandomForest_Experiment\")"
   ]
  },
  {
   "cell_type": "code",
   "execution_count": 2,
   "id": "bebff105-8de1-4a5a-af28-f902a372b90a",
   "metadata": {},
   "outputs": [
    {
     "name": "stdout",
     "output_type": "stream",
     "text": [
      "Files downloaded successfully!\n"
     ]
    }
   ],
   "source": [
    "import os\n",
    "import requests\n",
    "\n",
    "# Create the directory if it doesn't exist\n",
    "os.makedirs('../data', exist_ok=True)\n",
    "\n",
    "# Download files using requests\n",
    "url1 = 'https://d37ci6vzurychx.cloudfront.net/trip-data/green_tripdata_2024-01.parquet'\n",
    "url2 = 'https://d37ci6vzurychx.cloudfront.net/trip-data/green_tripdata_2024-02.parquet'\n",
    "\n",
    "# Define the file paths\n",
    "file_path1 = '../data/green_tripdata_2024-01.parquet'\n",
    "file_path2 = '../data/green_tripdata_2024-02.parquet'\n",
    "\n",
    "# Download and save the first file\n",
    "response = requests.get(url1)\n",
    "with open(file_path1, 'wb') as f:\n",
    "    f.write(response.content)\n",
    "\n",
    "# Download and save the second file\n",
    "response = requests.get(url2)\n",
    "with open(file_path2, 'wb') as f:\n",
    "    f.write(response.content)\n",
    "\n",
    "print('Files downloaded successfully!')"
   ]
  },
  {
   "cell_type": "code",
   "execution_count": 3,
   "id": "f3360903-73e1-40a2-b9b5-5821d7f3dc7c",
   "metadata": {},
   "outputs": [],
   "source": [
    "import pickle\n",
    "import pandas as pd\n",
    "from sklearn.metrics import  root_mean_squared_error\n",
    "from sklearn.feature_extraction import  DictVectorizer\n",
    "from sklearn.linear_model import Lasso, Ridge, LinearRegression"
   ]
  },
  {
   "cell_type": "code",
   "execution_count": 4,
   "id": "6b5150aa-bcf8-4e93-ae06-a79d6f736f24",
   "metadata": {},
   "outputs": [],
   "source": [
    "def read_dataframe(filename):\n",
    "\n",
    "    df = pd.read_parquet(filename)\n",
    "\n",
    "    df['duration'] = df.lpep_dropoff_datetime - df.lpep_pickup_datetime\n",
    "    df.duration = df.duration.apply(lambda td: td.total_seconds() / 60)\n",
    "\n",
    "    df = df[(df.duration >= 1) & (df.duration <= 60)]\n",
    "\n",
    "    categorical = ['PULocationID', 'DOLocationID']\n",
    "    df[categorical] = df[categorical].astype(str)\n",
    "\n",
    "    return df"
   ]
  },
  {
   "cell_type": "code",
   "execution_count": 5,
   "id": "72ec8b17-2f09-4695-bdbf-b66eb98abdc8",
   "metadata": {},
   "outputs": [],
   "source": [
    "df_train = read_dataframe('../data/green_tripdata_2024-01.parquet')\n",
    "df_val = read_dataframe('../data/green_tripdata_2024-02.parquet')"
   ]
  },
  {
   "cell_type": "code",
   "execution_count": 6,
   "id": "67ca9dd6-406e-402b-b750-3eca0f0db730",
   "metadata": {},
   "outputs": [],
   "source": [
    "df_train['PU_DO'] = df_train['PULocationID'] + '_' + df_train['DOLocationID']\n",
    "df_val['PU_DO'] = df_val['PULocationID'] + '_' + df_val['DOLocationID']"
   ]
  },
  {
   "cell_type": "code",
   "execution_count": 7,
   "id": "8b38a89e-170b-4185-b7e9-2ae4c2386081",
   "metadata": {},
   "outputs": [],
   "source": [
    "categorical = ['PU_DO']  #'PULocationID', 'DOLocationID']\n",
    "numerical = ['trip_distance']\n",
    "dv = DictVectorizer()\n",
    "\n",
    "train_dicts = df_train[categorical + numerical].to_dict(orient='records')\n",
    "X_train = dv.fit_transform(train_dicts)\n",
    "\n",
    "val_dicts = df_val[categorical + numerical].to_dict(orient='records')\n",
    "X_val = dv.transform(val_dicts)"
   ]
  },
  {
   "cell_type": "code",
   "execution_count": 8,
   "id": "13349ca2-1947-4e9c-854a-438e242df068",
   "metadata": {},
   "outputs": [],
   "source": [
    "target = 'duration'\n",
    "y_train = df_train[target].values\n",
    "y_val = df_val[target].values"
   ]
  },
  {
   "cell_type": "code",
   "execution_count": 9,
   "id": "023b796c-4b7c-40fe-a5d0-1f1a7fe5b580",
   "metadata": {},
   "outputs": [
    {
     "data": {
      "text/html": [
       "<pre style=\"white-space:pre;overflow-x:auto;line-height:normal;font-family:Menlo,'DejaVu Sans Mono',consolas,'Courier New',monospace\">Client created. Use the name of the repo <span style=\"font-weight: bold\">(</span>nyc-taxi-time-prediction<span style=\"font-weight: bold\">)</span> as the name of the bucket\n",
       "</pre>\n"
      ],
      "text/plain": [
       "Client created. Use the name of the repo \u001b[1m(\u001b[0mnyc-taxi-time-prediction\u001b[1m)\u001b[0m as the name of the bucket\n"
      ]
     },
     "metadata": {},
     "output_type": "display_data"
    }
   ],
   "source": [
    "from dagshub import get_repo_bucket_client\n",
    "# Get a boto3.client object\n",
    "s3 = get_repo_bucket_client(\"arturotowers/nyc-taxi-time-prediction\")\n",
    "\n",
    "# Upload file\n",
    "s3.upload_file(\n",
    "    Bucket=\"nyc-taxi-time-prediction\",  # name of the repo\n",
    "    Filename=\"../data/green_tripdata_2024-01.parquet\",  # local path of file to upload\n",
    "    Key=\"train_data.parquet\",  # remote path where to upload the file\n",
    ")\n",
    "# Upload file\n",
    "s3.upload_file(\n",
    "    Bucket=\"nyc-taxi-time-prediction\",  # name of the repo\n",
    "    Filename=\"../data/green_tripdata_2024-02.parquet\",  # local path of file to upload\n",
    "    Key=\"eval_data.parquet\",  # remote path where to upload the file\n",
    ")"
   ]
  },
  {
   "cell_type": "code",
   "execution_count": 10,
   "id": "22fec37f-51de-4d02-bc38-5de2cd10ae20",
   "metadata": {},
   "outputs": [],
   "source": [
    "from sklearn.ensemble import RandomForestRegressor\n",
    "from hyperopt import fmin, tpe, hp, STATUS_OK, Trials\n",
    "from hyperopt.pyll.base import scope\n",
    "from sklearn.metrics import mean_squared_error\n",
    "import mlflow.sklearn\n",
    "import pickle\n",
    "import pathlib"
   ]
  },
  {
   "cell_type": "code",
   "execution_count": 15,
   "id": "273727cd-53f3-4490-860c-34dcaf792697",
   "metadata": {},
   "outputs": [],
   "source": [
    "# Definir la función objetivo\n",
    "def objective_rf(params):\n",
    "    with mlflow.start_run(nested=True):\n",
    "        \n",
    "        # Etiquetar modelo\n",
    "        mlflow.set_tag(\"model_family\", \"RandomForest\")\n",
    "        \n",
    "        # Registrar los parámetros\n",
    "        mlflow.log_params(params)\n",
    "        \n",
    "        # Entrenar modelo\n",
    "        model = RandomForestRegressor(**params)\n",
    "        model.fit(X_train, y_train)\n",
    "        \n",
    "        # Predecir sobre el conjunto de validación\n",
    "        y_pred = model.predict(X_val)\n",
    "        \n",
    "        # Calcular la métrica\n",
    "        rmse = mean_squared_error(y_val, y_pred, squared=False)\n",
    "        \n",
    "        # Registrar la métrica de rendimiento\n",
    "        mlflow.log_metric(\"rmse\", rmse)\n",
    "        \n",
    "        # Registrar el modelo entrenado\n",
    "        mlflow.sklearn.log_model(model, artifact_path=\"model\")\n",
    "\n",
    "    return {'loss': rmse, 'status': STATUS_OK}"
   ]
  },
  {
   "cell_type": "code",
   "execution_count": 17,
   "id": "a7ede24a-bf29-430d-8b34-976e95ff22a5",
   "metadata": {},
   "outputs": [
    {
     "name": "stdout",
     "output_type": "stream",
     "text": [
      "  0%|                                                                           | 0/10 [00:00<?, ?trial/s, best loss=?]"
     ]
    },
    {
     "name": "stderr",
     "output_type": "stream",
     "text": [
      "C:\\Users\\ctorr\\OneDrive\\Documentos\\Arturo\\Arturo HW ITESO\\5to semestre\\Proyecto Ciencia de datos\\apis\\Lib\\site-packages\\sklearn\\metrics\\_regression.py:492: FutureWarning: 'squared' is deprecated in version 1.4 and will be removed in 1.6. To calculate the root mean squared error, use the function'root_mean_squared_error'.\n",
      "  warnings.warn(\n",
      "\n",
      "2024/09/20 18:49:28 WARNING mlflow.models.model: Model logged without a signature and input example. Please set `input_example` parameter when logging the model to auto infer the model signature.\n",
      "\n",
      "2024/09/20 18:49:38 INFO mlflow.tracking._tracking_service.client: 🏃 View run adaptable-boar-173 at: https://dagshub.com/arturotowers/nyc-taxi-time-prediction.mlflow/#/experiments/2/runs/e4e4109086194c7187b0bf2d3ec21d11.\n",
      "\n",
      "2024/09/20 18:49:38 INFO mlflow.tracking._tracking_service.client: 🧪 View experiment at: https://dagshub.com/arturotowers/nyc-taxi-time-prediction.mlflow/#/experiments/2.\n",
      "\n"
     ]
    },
    {
     "name": "stdout",
     "output_type": "stream",
     "text": [
      " 10%|█████                                             | 1/10 [01:30<13:38, 90.97s/trial, best loss: 5.441429687630555]"
     ]
    },
    {
     "name": "stderr",
     "output_type": "stream",
     "text": [
      "C:\\Users\\ctorr\\OneDrive\\Documentos\\Arturo\\Arturo HW ITESO\\5to semestre\\Proyecto Ciencia de datos\\apis\\Lib\\site-packages\\sklearn\\metrics\\_regression.py:492: FutureWarning: 'squared' is deprecated in version 1.4 and will be removed in 1.6. To calculate the root mean squared error, use the function'root_mean_squared_error'.\n",
      "  warnings.warn(\n",
      "\n",
      "2024/09/20 18:50:23 WARNING mlflow.models.model: Model logged without a signature and input example. Please set `input_example` parameter when logging the model to auto infer the model signature.\n",
      "\n",
      "2024/09/20 18:50:35 INFO mlflow.tracking._tracking_service.client: 🏃 View run sassy-dolphin-172 at: https://dagshub.com/arturotowers/nyc-taxi-time-prediction.mlflow/#/experiments/2/runs/4dbb07117f594ecaa5747d2a59d6e5db.\n",
      "\n",
      "2024/09/20 18:50:35 INFO mlflow.tracking._tracking_service.client: 🧪 View experiment at: https://dagshub.com/arturotowers/nyc-taxi-time-prediction.mlflow/#/experiments/2.\n",
      "\n"
     ]
    },
    {
     "name": "stdout",
     "output_type": "stream",
     "text": [
      " 20%|██████████                                        | 2/10 [02:28<09:29, 71.18s/trial, best loss: 5.441429687630555]"
     ]
    },
    {
     "name": "stderr",
     "output_type": "stream",
     "text": [
      "C:\\Users\\ctorr\\OneDrive\\Documentos\\Arturo\\Arturo HW ITESO\\5to semestre\\Proyecto Ciencia de datos\\apis\\Lib\\site-packages\\sklearn\\metrics\\_regression.py:492: FutureWarning: 'squared' is deprecated in version 1.4 and will be removed in 1.6. To calculate the root mean squared error, use the function'root_mean_squared_error'.\n",
      "  warnings.warn(\n",
      "\n",
      "2024/09/20 18:50:41 WARNING mlflow.models.model: Model logged without a signature and input example. Please set `input_example` parameter when logging the model to auto infer the model signature.\n",
      "\n",
      "2024/09/20 18:50:44 INFO mlflow.tracking._tracking_service.client: 🏃 View run unequaled-doe-609 at: https://dagshub.com/arturotowers/nyc-taxi-time-prediction.mlflow/#/experiments/2/runs/b9bfa3b8dd0a4e949a05988d35a2ca77.\n",
      "\n",
      "2024/09/20 18:50:44 INFO mlflow.tracking._tracking_service.client: 🧪 View experiment at: https://dagshub.com/arturotowers/nyc-taxi-time-prediction.mlflow/#/experiments/2.\n",
      "\n"
     ]
    },
    {
     "name": "stdout",
     "output_type": "stream",
     "text": [
      " 30%|███████████████                                   | 3/10 [02:37<05:00, 42.90s/trial, best loss: 5.441429687630555]"
     ]
    },
    {
     "name": "stderr",
     "output_type": "stream",
     "text": [
      "C:\\Users\\ctorr\\OneDrive\\Documentos\\Arturo\\Arturo HW ITESO\\5to semestre\\Proyecto Ciencia de datos\\apis\\Lib\\site-packages\\sklearn\\metrics\\_regression.py:492: FutureWarning: 'squared' is deprecated in version 1.4 and will be removed in 1.6. To calculate the root mean squared error, use the function'root_mean_squared_error'.\n",
      "  warnings.warn(\n",
      "\n",
      "2024/09/20 18:51:57 WARNING mlflow.models.model: Model logged without a signature and input example. Please set `input_example` parameter when logging the model to auto infer the model signature.\n",
      "\n",
      "2024/09/20 18:52:07 INFO mlflow.tracking._tracking_service.client: 🏃 View run nebulous-hare-283 at: https://dagshub.com/arturotowers/nyc-taxi-time-prediction.mlflow/#/experiments/2/runs/39804af0464f4f79baeba095f3b428f3.\n",
      "\n",
      "2024/09/20 18:52:07 INFO mlflow.tracking._tracking_service.client: 🧪 View experiment at: https://dagshub.com/arturotowers/nyc-taxi-time-prediction.mlflow/#/experiments/2.\n",
      "\n"
     ]
    },
    {
     "name": "stdout",
     "output_type": "stream",
     "text": [
      " 40%|████████████████████                              | 4/10 [04:00<05:51, 58.54s/trial, best loss: 5.359177418213355]"
     ]
    },
    {
     "name": "stderr",
     "output_type": "stream",
     "text": [
      "C:\\Users\\ctorr\\OneDrive\\Documentos\\Arturo\\Arturo HW ITESO\\5to semestre\\Proyecto Ciencia de datos\\apis\\Lib\\site-packages\\sklearn\\metrics\\_regression.py:492: FutureWarning: 'squared' is deprecated in version 1.4 and will be removed in 1.6. To calculate the root mean squared error, use the function'root_mean_squared_error'.\n",
      "  warnings.warn(\n",
      "\n",
      "2024/09/20 18:52:14 WARNING mlflow.models.model: Model logged without a signature and input example. Please set `input_example` parameter when logging the model to auto infer the model signature.\n",
      "\n",
      "2024/09/20 18:52:17 INFO mlflow.tracking._tracking_service.client: 🏃 View run welcoming-perch-44 at: https://dagshub.com/arturotowers/nyc-taxi-time-prediction.mlflow/#/experiments/2/runs/90b9d4c2f5564c29a312337122eb6bf2.\n",
      "\n",
      "2024/09/20 18:52:17 INFO mlflow.tracking._tracking_service.client: 🧪 View experiment at: https://dagshub.com/arturotowers/nyc-taxi-time-prediction.mlflow/#/experiments/2.\n",
      "\n"
     ]
    },
    {
     "name": "stdout",
     "output_type": "stream",
     "text": [
      " 50%|█████████████████████████                         | 5/10 [04:10<03:25, 41.14s/trial, best loss: 5.359177418213355]"
     ]
    },
    {
     "name": "stderr",
     "output_type": "stream",
     "text": [
      "C:\\Users\\ctorr\\OneDrive\\Documentos\\Arturo\\Arturo HW ITESO\\5to semestre\\Proyecto Ciencia de datos\\apis\\Lib\\site-packages\\sklearn\\metrics\\_regression.py:492: FutureWarning: 'squared' is deprecated in version 1.4 and will be removed in 1.6. To calculate the root mean squared error, use the function'root_mean_squared_error'.\n",
      "  warnings.warn(\n",
      "\n",
      "2024/09/20 18:52:24 WARNING mlflow.models.model: Model logged without a signature and input example. Please set `input_example` parameter when logging the model to auto infer the model signature.\n",
      "\n",
      "2024/09/20 18:52:26 INFO mlflow.tracking._tracking_service.client: 🏃 View run bemused-foal-862 at: https://dagshub.com/arturotowers/nyc-taxi-time-prediction.mlflow/#/experiments/2/runs/fd8bc339c5c849f29b7c2f140ebe7716.\n",
      "\n",
      "2024/09/20 18:52:26 INFO mlflow.tracking._tracking_service.client: 🧪 View experiment at: https://dagshub.com/arturotowers/nyc-taxi-time-prediction.mlflow/#/experiments/2.\n",
      "\n"
     ]
    },
    {
     "name": "stdout",
     "output_type": "stream",
     "text": [
      " 60%|██████████████████████████████                    | 6/10 [04:19<02:01, 30.34s/trial, best loss: 5.359177418213355]"
     ]
    },
    {
     "name": "stderr",
     "output_type": "stream",
     "text": [
      "C:\\Users\\ctorr\\OneDrive\\Documentos\\Arturo\\Arturo HW ITESO\\5to semestre\\Proyecto Ciencia de datos\\apis\\Lib\\site-packages\\sklearn\\metrics\\_regression.py:492: FutureWarning: 'squared' is deprecated in version 1.4 and will be removed in 1.6. To calculate the root mean squared error, use the function'root_mean_squared_error'.\n",
      "  warnings.warn(\n",
      "\n",
      "2024/09/20 18:55:57 WARNING mlflow.models.model: Model logged without a signature and input example. Please set `input_example` parameter when logging the model to auto infer the model signature.\n",
      "\n",
      "2024/09/20 18:56:29 INFO mlflow.tracking._tracking_service.client: 🏃 View run bemused-robin-12 at: https://dagshub.com/arturotowers/nyc-taxi-time-prediction.mlflow/#/experiments/2/runs/6b4755b277fd4c7ebc6aebec5f954fb3.\n",
      "\n",
      "2024/09/20 18:56:29 INFO mlflow.tracking._tracking_service.client: 🧪 View experiment at: https://dagshub.com/arturotowers/nyc-taxi-time-prediction.mlflow/#/experiments/2.\n",
      "\n"
     ]
    },
    {
     "name": "stdout",
     "output_type": "stream",
     "text": [
      " 70%|███████████████████████████████████               | 7/10 [08:21<04:58, 99.62s/trial, best loss: 5.359177418213355]"
     ]
    },
    {
     "name": "stderr",
     "output_type": "stream",
     "text": [
      "C:\\Users\\ctorr\\OneDrive\\Documentos\\Arturo\\Arturo HW ITESO\\5to semestre\\Proyecto Ciencia de datos\\apis\\Lib\\site-packages\\sklearn\\metrics\\_regression.py:492: FutureWarning: 'squared' is deprecated in version 1.4 and will be removed in 1.6. To calculate the root mean squared error, use the function'root_mean_squared_error'.\n",
      "  warnings.warn(\n",
      "\n",
      "2024/09/20 18:56:46 WARNING mlflow.models.model: Model logged without a signature and input example. Please set `input_example` parameter when logging the model to auto infer the model signature.\n",
      "\n",
      "2024/09/20 18:56:51 INFO mlflow.tracking._tracking_service.client: 🏃 View run funny-grouse-151 at: https://dagshub.com/arturotowers/nyc-taxi-time-prediction.mlflow/#/experiments/2/runs/faaabfb6d7ed42f8a9eee733c67322a9.\n",
      "\n",
      "2024/09/20 18:56:51 INFO mlflow.tracking._tracking_service.client: 🧪 View experiment at: https://dagshub.com/arturotowers/nyc-taxi-time-prediction.mlflow/#/experiments/2.\n",
      "\n"
     ]
    },
    {
     "name": "stdout",
     "output_type": "stream",
     "text": [
      " 80%|████████████████████████████████████████          | 8/10 [08:44<02:29, 74.96s/trial, best loss: 5.359177418213355]"
     ]
    },
    {
     "name": "stderr",
     "output_type": "stream",
     "text": [
      "C:\\Users\\ctorr\\OneDrive\\Documentos\\Arturo\\Arturo HW ITESO\\5to semestre\\Proyecto Ciencia de datos\\apis\\Lib\\site-packages\\sklearn\\metrics\\_regression.py:492: FutureWarning: 'squared' is deprecated in version 1.4 and will be removed in 1.6. To calculate the root mean squared error, use the function'root_mean_squared_error'.\n",
      "  warnings.warn(\n",
      "\n",
      "2024/09/20 18:58:04 WARNING mlflow.models.model: Model logged without a signature and input example. Please set `input_example` parameter when logging the model to auto infer the model signature.\n",
      "\n",
      "2024/09/20 18:58:17 INFO mlflow.tracking._tracking_service.client: 🏃 View run defiant-shrike-42 at: https://dagshub.com/arturotowers/nyc-taxi-time-prediction.mlflow/#/experiments/2/runs/f18587c337db4028886cd7a2ba271f1d.\n",
      "\n",
      "2024/09/20 18:58:17 INFO mlflow.tracking._tracking_service.client: 🧪 View experiment at: https://dagshub.com/arturotowers/nyc-taxi-time-prediction.mlflow/#/experiments/2.\n",
      "\n"
     ]
    },
    {
     "name": "stdout",
     "output_type": "stream",
     "text": [
      " 90%|█████████████████████████████████████████████     | 9/10 [10:10<01:18, 78.50s/trial, best loss: 5.359177418213355]"
     ]
    },
    {
     "name": "stderr",
     "output_type": "stream",
     "text": [
      "C:\\Users\\ctorr\\OneDrive\\Documentos\\Arturo\\Arturo HW ITESO\\5to semestre\\Proyecto Ciencia de datos\\apis\\Lib\\site-packages\\sklearn\\metrics\\_regression.py:492: FutureWarning: 'squared' is deprecated in version 1.4 and will be removed in 1.6. To calculate the root mean squared error, use the function'root_mean_squared_error'.\n",
      "  warnings.warn(\n",
      "\n",
      "2024/09/20 18:59:10 WARNING mlflow.models.model: Model logged without a signature and input example. Please set `input_example` parameter when logging the model to auto infer the model signature.\n",
      "\n",
      "2024/09/20 18:59:28 INFO mlflow.tracking._tracking_service.client: 🏃 View run serious-skunk-590 at: https://dagshub.com/arturotowers/nyc-taxi-time-prediction.mlflow/#/experiments/2/runs/6f8b532909e24b2b955bea28fc8f6047.\n",
      "\n",
      "2024/09/20 18:59:28 INFO mlflow.tracking._tracking_service.client: 🧪 View experiment at: https://dagshub.com/arturotowers/nyc-taxi-time-prediction.mlflow/#/experiments/2.\n",
      "\n"
     ]
    },
    {
     "name": "stdout",
     "output_type": "stream",
     "text": [
      "100%|█████████████████████████████████████████████████| 10/10 [11:21<00:00, 68.13s/trial, best loss: 5.359177418213355]\n"
     ]
    },
    {
     "name": "stderr",
     "output_type": "stream",
     "text": [
      "2024/09/20 18:59:29 INFO mlflow.tracking._tracking_service.client: 🏃 View run RandomForest Hyper-parameter Optimization at: https://dagshub.com/arturotowers/nyc-taxi-time-prediction.mlflow/#/experiments/2/runs/9694bfd5ba534c348b3dfc7f31280446.\n",
      "2024/09/20 18:59:29 INFO mlflow.tracking._tracking_service.client: 🧪 View experiment at: https://dagshub.com/arturotowers/nyc-taxi-time-prediction.mlflow/#/experiments/2.\n"
     ]
    },
    {
     "ename": "InvalidParameterError",
     "evalue": "The 'max_depth' parameter of RandomForestRegressor must be an int in the range [1, inf) or None. Got np.float64(15.0) instead.",
     "output_type": "error",
     "traceback": [
      "\u001b[1;31m---------------------------------------------------------------------------\u001b[0m",
      "\u001b[1;31mInvalidParameterError\u001b[0m                     Traceback (most recent call last)",
      "Cell \u001b[1;32mIn[17], line 34\u001b[0m\n\u001b[0;32m     32\u001b[0m \u001b[38;5;66;03m# Log a fit model instance\u001b[39;00m\n\u001b[0;32m     33\u001b[0m best_model_rf \u001b[38;5;241m=\u001b[39m RandomForestRegressor(\u001b[38;5;241m*\u001b[39m\u001b[38;5;241m*\u001b[39mbest_params_rf)\n\u001b[1;32m---> 34\u001b[0m \u001b[43mbest_model_rf\u001b[49m\u001b[38;5;241;43m.\u001b[39;49m\u001b[43mfit\u001b[49m\u001b[43m(\u001b[49m\u001b[43mX_train\u001b[49m\u001b[43m,\u001b[49m\u001b[43m \u001b[49m\u001b[43my_train\u001b[49m\u001b[43m)\u001b[49m\n\u001b[0;32m     36\u001b[0m y_pred_rf \u001b[38;5;241m=\u001b[39m best_model_rf\u001b[38;5;241m.\u001b[39mpredict(X_val)\n\u001b[0;32m     37\u001b[0m rmse_rf \u001b[38;5;241m=\u001b[39m mean_squared_error(y_val, y_pred_rf, squared\u001b[38;5;241m=\u001b[39m\u001b[38;5;28;01mFalse\u001b[39;00m)\n",
      "File \u001b[1;32m~\\OneDrive\\Documentos\\Arturo\\Arturo HW ITESO\\5to semestre\\Proyecto Ciencia de datos\\apis\\Lib\\site-packages\\sklearn\\base.py:1466\u001b[0m, in \u001b[0;36m_fit_context.<locals>.decorator.<locals>.wrapper\u001b[1;34m(estimator, *args, **kwargs)\u001b[0m\n\u001b[0;32m   1461\u001b[0m partial_fit_and_fitted \u001b[38;5;241m=\u001b[39m (\n\u001b[0;32m   1462\u001b[0m     fit_method\u001b[38;5;241m.\u001b[39m\u001b[38;5;18m__name__\u001b[39m \u001b[38;5;241m==\u001b[39m \u001b[38;5;124m\"\u001b[39m\u001b[38;5;124mpartial_fit\u001b[39m\u001b[38;5;124m\"\u001b[39m \u001b[38;5;129;01mand\u001b[39;00m _is_fitted(estimator)\n\u001b[0;32m   1463\u001b[0m )\n\u001b[0;32m   1465\u001b[0m \u001b[38;5;28;01mif\u001b[39;00m \u001b[38;5;129;01mnot\u001b[39;00m global_skip_validation \u001b[38;5;129;01mand\u001b[39;00m \u001b[38;5;129;01mnot\u001b[39;00m partial_fit_and_fitted:\n\u001b[1;32m-> 1466\u001b[0m     \u001b[43mestimator\u001b[49m\u001b[38;5;241;43m.\u001b[39;49m\u001b[43m_validate_params\u001b[49m\u001b[43m(\u001b[49m\u001b[43m)\u001b[49m\n\u001b[0;32m   1468\u001b[0m \u001b[38;5;28;01mwith\u001b[39;00m config_context(\n\u001b[0;32m   1469\u001b[0m     skip_parameter_validation\u001b[38;5;241m=\u001b[39m(\n\u001b[0;32m   1470\u001b[0m         prefer_skip_nested_validation \u001b[38;5;129;01mor\u001b[39;00m global_skip_validation\n\u001b[0;32m   1471\u001b[0m     )\n\u001b[0;32m   1472\u001b[0m ):\n\u001b[0;32m   1473\u001b[0m     \u001b[38;5;28;01mreturn\u001b[39;00m fit_method(estimator, \u001b[38;5;241m*\u001b[39margs, \u001b[38;5;241m*\u001b[39m\u001b[38;5;241m*\u001b[39mkwargs)\n",
      "File \u001b[1;32m~\\OneDrive\\Documentos\\Arturo\\Arturo HW ITESO\\5to semestre\\Proyecto Ciencia de datos\\apis\\Lib\\site-packages\\sklearn\\base.py:666\u001b[0m, in \u001b[0;36mBaseEstimator._validate_params\u001b[1;34m(self)\u001b[0m\n\u001b[0;32m    658\u001b[0m \u001b[38;5;28;01mdef\u001b[39;00m \u001b[38;5;21m_validate_params\u001b[39m(\u001b[38;5;28mself\u001b[39m):\n\u001b[0;32m    659\u001b[0m \u001b[38;5;250m    \u001b[39m\u001b[38;5;124;03m\"\"\"Validate types and values of constructor parameters\u001b[39;00m\n\u001b[0;32m    660\u001b[0m \n\u001b[0;32m    661\u001b[0m \u001b[38;5;124;03m    The expected type and values must be defined in the `_parameter_constraints`\u001b[39;00m\n\u001b[1;32m   (...)\u001b[0m\n\u001b[0;32m    664\u001b[0m \u001b[38;5;124;03m    accepted constraints.\u001b[39;00m\n\u001b[0;32m    665\u001b[0m \u001b[38;5;124;03m    \"\"\"\u001b[39;00m\n\u001b[1;32m--> 666\u001b[0m     \u001b[43mvalidate_parameter_constraints\u001b[49m\u001b[43m(\u001b[49m\n\u001b[0;32m    667\u001b[0m \u001b[43m        \u001b[49m\u001b[38;5;28;43mself\u001b[39;49m\u001b[38;5;241;43m.\u001b[39;49m\u001b[43m_parameter_constraints\u001b[49m\u001b[43m,\u001b[49m\n\u001b[0;32m    668\u001b[0m \u001b[43m        \u001b[49m\u001b[38;5;28;43mself\u001b[39;49m\u001b[38;5;241;43m.\u001b[39;49m\u001b[43mget_params\u001b[49m\u001b[43m(\u001b[49m\u001b[43mdeep\u001b[49m\u001b[38;5;241;43m=\u001b[39;49m\u001b[38;5;28;43;01mFalse\u001b[39;49;00m\u001b[43m)\u001b[49m\u001b[43m,\u001b[49m\n\u001b[0;32m    669\u001b[0m \u001b[43m        \u001b[49m\u001b[43mcaller_name\u001b[49m\u001b[38;5;241;43m=\u001b[39;49m\u001b[38;5;28;43mself\u001b[39;49m\u001b[38;5;241;43m.\u001b[39;49m\u001b[38;5;18;43m__class__\u001b[39;49m\u001b[38;5;241;43m.\u001b[39;49m\u001b[38;5;18;43m__name__\u001b[39;49m\u001b[43m,\u001b[49m\n\u001b[0;32m    670\u001b[0m \u001b[43m    \u001b[49m\u001b[43m)\u001b[49m\n",
      "File \u001b[1;32m~\\OneDrive\\Documentos\\Arturo\\Arturo HW ITESO\\5to semestre\\Proyecto Ciencia de datos\\apis\\Lib\\site-packages\\sklearn\\utils\\_param_validation.py:95\u001b[0m, in \u001b[0;36mvalidate_parameter_constraints\u001b[1;34m(parameter_constraints, params, caller_name)\u001b[0m\n\u001b[0;32m     89\u001b[0m \u001b[38;5;28;01melse\u001b[39;00m:\n\u001b[0;32m     90\u001b[0m     constraints_str \u001b[38;5;241m=\u001b[39m (\n\u001b[0;32m     91\u001b[0m         \u001b[38;5;124mf\u001b[39m\u001b[38;5;124m\"\u001b[39m\u001b[38;5;132;01m{\u001b[39;00m\u001b[38;5;124m'\u001b[39m\u001b[38;5;124m, \u001b[39m\u001b[38;5;124m'\u001b[39m\u001b[38;5;241m.\u001b[39mjoin([\u001b[38;5;28mstr\u001b[39m(c)\u001b[38;5;250m \u001b[39m\u001b[38;5;28;01mfor\u001b[39;00m\u001b[38;5;250m \u001b[39mc\u001b[38;5;250m \u001b[39m\u001b[38;5;129;01min\u001b[39;00m\u001b[38;5;250m \u001b[39mconstraints[:\u001b[38;5;241m-\u001b[39m\u001b[38;5;241m1\u001b[39m]])\u001b[38;5;132;01m}\u001b[39;00m\u001b[38;5;124m or\u001b[39m\u001b[38;5;124m\"\u001b[39m\n\u001b[0;32m     92\u001b[0m         \u001b[38;5;124mf\u001b[39m\u001b[38;5;124m\"\u001b[39m\u001b[38;5;124m \u001b[39m\u001b[38;5;132;01m{\u001b[39;00mconstraints[\u001b[38;5;241m-\u001b[39m\u001b[38;5;241m1\u001b[39m]\u001b[38;5;132;01m}\u001b[39;00m\u001b[38;5;124m\"\u001b[39m\n\u001b[0;32m     93\u001b[0m     )\n\u001b[1;32m---> 95\u001b[0m \u001b[38;5;28;01mraise\u001b[39;00m InvalidParameterError(\n\u001b[0;32m     96\u001b[0m     \u001b[38;5;124mf\u001b[39m\u001b[38;5;124m\"\u001b[39m\u001b[38;5;124mThe \u001b[39m\u001b[38;5;132;01m{\u001b[39;00mparam_name\u001b[38;5;132;01m!r}\u001b[39;00m\u001b[38;5;124m parameter of \u001b[39m\u001b[38;5;132;01m{\u001b[39;00mcaller_name\u001b[38;5;132;01m}\u001b[39;00m\u001b[38;5;124m must be\u001b[39m\u001b[38;5;124m\"\u001b[39m\n\u001b[0;32m     97\u001b[0m     \u001b[38;5;124mf\u001b[39m\u001b[38;5;124m\"\u001b[39m\u001b[38;5;124m \u001b[39m\u001b[38;5;132;01m{\u001b[39;00mconstraints_str\u001b[38;5;132;01m}\u001b[39;00m\u001b[38;5;124m. Got \u001b[39m\u001b[38;5;132;01m{\u001b[39;00mparam_val\u001b[38;5;132;01m!r}\u001b[39;00m\u001b[38;5;124m instead.\u001b[39m\u001b[38;5;124m\"\u001b[39m\n\u001b[0;32m     98\u001b[0m )\n",
      "\u001b[1;31mInvalidParameterError\u001b[0m: The 'max_depth' parameter of RandomForestRegressor must be an int in the range [1, inf) or None. Got np.float64(15.0) instead."
     ]
    }
   ],
   "source": [
    "search_space_rf = {\n",
    "    'n_estimators': scope.int(hp.quniform('n_estimators', 100, 500, 1)),\n",
    "    'max_depth': scope.int(hp.quniform('max_depth', 5, 50, 1)),\n",
    "    'min_samples_split': scope.int(hp.quniform('min_samples_split', 2, 10, 1)),\n",
    "    'min_samples_leaf': scope.int(hp.quniform('min_samples_leaf', 1, 4, 1)),\n",
    "    'max_features': hp.choice('max_features', ['sqrt', 'log2', None]),\n",
    "    'bootstrap': hp.choice('bootstrap', [True, False])\n",
    "}\n",
    "\n",
    "# Realizar la búsqueda de hiperparámetros\n",
    "with mlflow.start_run(run_name=\"RandomForest Hyper-parameter Optimization\", nested=True):\n",
    "    best_params_rf = fmin(\n",
    "        fn=objective_rf,\n",
    "        space=search_space_rf,\n",
    "        algo=tpe.suggest,\n",
    "        max_evals=10,\n",
    "        trials=Trials()\n",
    "    )\n",
    "    \n",
    "    # Log best params\n",
    "    best_params_rf['n_estimators'] = int(best_params_rf['n_estimators'])\n",
    "    best_params_rf['max_depth'] = int(best_params_rf['max_depth'])\n",
    "    best_params_rf['min_samples_split'] = int(best_params_rf['min_samples_split'])\n",
    "    best_params_rf['min_samples_leaf'] = int(best_params_rf['min_samples_leaf'])\n",
    "    best_params_rf['bootstrap'] = bool(best_params_rf['bootstrap'])\n",
    "    mlflow.log_params(best_params_rf)\n",
    "\n",
    "    # Log tags\n",
    "    mlflow.set_tags({\n",
    "        \"project\": \"NYC Taxi Time Prediction Project\",\n",
    "        \"optimizer_engine\": \"hyper-opt\",\n",
    "        \"model_family\": \"RandomForest\",\n",
    "        \"feature_set_version\": 1\n",
    "    })\n",
    "\n",
    "    # Log a fit model instance\n",
    "    best_model_rf = RandomForestRegressor(**best_params_rf)\n",
    "    best_model_rf.fit(X_train, y_train)\n",
    "    \n",
    "    y_pred_rf = best_model_rf.predict(X_val)\n",
    "    rmse_rf = mean_squared_error(y_val, y_pred_rf, squared=False)\n",
    "    mlflow.log_metric(\"rmse\", rmse_rf)\n",
    "\n",
    "    pathlib.Path(\"models\").mkdir(exist_ok=True)\n",
    "    with open(\"models/preprocessor.b\", \"wb\") as f_out:\n",
    "        pickle.dump(dv, f_out)\n",
    "\n",
    "    mlflow.log_artifact(\"models/preprocessor.b\", artifact_path=\"preprocessor\")"
   ]
  },
  {
   "cell_type": "code",
   "execution_count": 20,
   "id": "a27c652e-dcee-47dd-8858-943fbc9fc8ab",
   "metadata": {},
   "outputs": [
    {
     "name": "stderr",
     "output_type": "stream",
     "text": [
      "C:\\Users\\ctorr\\OneDrive\\Documentos\\Arturo\\Arturo HW ITESO\\5to semestre\\Proyecto Ciencia de datos\\apis\\Lib\\site-packages\\sklearn\\metrics\\_regression.py:492: FutureWarning: 'squared' is deprecated in version 1.4 and will be removed in 1.6. To calculate the root mean squared error, use the function'root_mean_squared_error'.\n",
      "  warnings.warn(\n"
     ]
    }
   ],
   "source": [
    "# Declarar el modelo con los parámetros específicos\n",
    "best_model_rf = RandomForestRegressor(\n",
    "    bootstrap=False,\n",
    "    max_depth=15,  # int\n",
    "    max_features=2,  # int\n",
    "    min_samples_leaf=3,  # int\n",
    "    min_samples_split=4,  # int\n",
    "    n_estimators=389  # int\n",
    ")\n",
    "\n",
    "# Ajustar el modelo\n",
    "best_model_rf.fit(X_train, y_train)\n",
    "\n",
    "# Predecir y calcular RMSE\n",
    "y_pred_rf = best_model_rf.predict(X_val)\n",
    "rmse_rf = mean_squared_error(y_val, y_pred_rf, squared=False)\n",
    "mlflow.log_metric(\"rmse\", rmse_rf)\n",
    "\n",
    "# Guardar el preprocesador\n",
    "pathlib.Path(\"models\").mkdir(exist_ok=True)\n",
    "with open(\"models/preprocessor.b\", \"wb\") as f_out:\n",
    "    pickle.dump(dv, f_out)\n",
    "\n",
    "mlflow.log_artifact(\"models/preprocessor.b\", artifact_path=\"preprocessor\")"
   ]
  },
  {
   "cell_type": "code",
   "execution_count": 22,
   "id": "526b93de-10d1-4a01-84f7-cb0190d26ac3",
   "metadata": {},
   "outputs": [],
   "source": [
    "from sklearn.ensemble import GradientBoostingRegressor\n",
    "\n",
    "# Definir la función objetivo para GradientBoosting\n",
    "def objective_gb(params):\n",
    "    with mlflow.start_run(nested=True):\n",
    "        \n",
    "        # Etiquetar modelo\n",
    "        mlflow.set_tag(\"model_family\", \"GradientBoosting\")\n",
    "        \n",
    "        # Registrar los parámetros\n",
    "        mlflow.log_params(params)\n",
    "        \n",
    "        # Entrenar modelo\n",
    "        model = GradientBoostingRegressor(**params)\n",
    "        model.fit(X_train, y_train)\n",
    "        \n",
    "        # Predecir sobre el conjunto de validación\n",
    "        y_pred = model.predict(X_val)\n",
    "        \n",
    "        # Calcular la métrica\n",
    "        rmse = mean_squared_error(y_val, y_pred, squared=False)\n",
    "        \n",
    "        # Registrar la métrica de rendimiento\n",
    "        mlflow.log_metric(\"rmse\", rmse)\n",
    "        \n",
    "        # Registrar el modelo entrenado\n",
    "        mlflow.sklearn.log_model(model, artifact_path=\"model\")\n",
    "\n",
    "    return {'loss': rmse, 'status': STATUS_OK}"
   ]
  },
  {
   "cell_type": "code",
   "execution_count": 23,
   "id": "cdc8102e-00c6-43f0-97dd-ad01c62d5177",
   "metadata": {},
   "outputs": [
    {
     "name": "stdout",
     "output_type": "stream",
     "text": [
      "  0%|                                                                           | 0/10 [00:00<?, ?trial/s, best loss=?]"
     ]
    },
    {
     "name": "stderr",
     "output_type": "stream",
     "text": [
      "C:\\Users\\ctorr\\OneDrive\\Documentos\\Arturo\\Arturo HW ITESO\\5to semestre\\Proyecto Ciencia de datos\\apis\\Lib\\site-packages\\sklearn\\metrics\\_regression.py:492: FutureWarning: 'squared' is deprecated in version 1.4 and will be removed in 1.6. To calculate the root mean squared error, use the function'root_mean_squared_error'.\n",
      "  warnings.warn(\n",
      "\n",
      "2024/09/20 19:11:48 WARNING mlflow.models.model: Model logged without a signature and input example. Please set `input_example` parameter when logging the model to auto infer the model signature.\n",
      "\n",
      "2024/09/20 19:11:51 INFO mlflow.tracking._tracking_service.client: 🏃 View run efficient-swan-157 at: https://dagshub.com/arturotowers/nyc-taxi-time-prediction.mlflow/#/experiments/2/runs/f82e0fe867af454394ba65b5d7c92097.\n",
      "\n",
      "2024/09/20 19:11:51 INFO mlflow.tracking._tracking_service.client: 🧪 View experiment at: https://dagshub.com/arturotowers/nyc-taxi-time-prediction.mlflow/#/experiments/2.\n",
      "\n"
     ]
    },
    {
     "name": "stdout",
     "output_type": "stream",
     "text": [
      " 10%|█████                                             | 1/10 [00:25<03:53, 25.95s/trial, best loss: 5.150663351132724]"
     ]
    },
    {
     "name": "stderr",
     "output_type": "stream",
     "text": [
      "C:\\Users\\ctorr\\OneDrive\\Documentos\\Arturo\\Arturo HW ITESO\\5to semestre\\Proyecto Ciencia de datos\\apis\\Lib\\site-packages\\sklearn\\metrics\\_regression.py:492: FutureWarning: 'squared' is deprecated in version 1.4 and will be removed in 1.6. To calculate the root mean squared error, use the function'root_mean_squared_error'.\n",
      "  warnings.warn(\n",
      "\n",
      "2024/09/20 19:12:04 WARNING mlflow.models.model: Model logged without a signature and input example. Please set `input_example` parameter when logging the model to auto infer the model signature.\n",
      "\n",
      "2024/09/20 19:12:07 INFO mlflow.tracking._tracking_service.client: 🏃 View run mercurial-snake-523 at: https://dagshub.com/arturotowers/nyc-taxi-time-prediction.mlflow/#/experiments/2/runs/f8bb66b0873044f5a948fd4fc1131fbd.\n",
      "\n",
      "2024/09/20 19:12:07 INFO mlflow.tracking._tracking_service.client: 🧪 View experiment at: https://dagshub.com/arturotowers/nyc-taxi-time-prediction.mlflow/#/experiments/2.\n",
      "\n"
     ]
    },
    {
     "name": "stdout",
     "output_type": "stream",
     "text": [
      " 20%|██████████                                        | 2/10 [00:41<02:39, 19.94s/trial, best loss: 5.150663351132724]"
     ]
    },
    {
     "name": "stderr",
     "output_type": "stream",
     "text": [
      "C:\\Users\\ctorr\\OneDrive\\Documentos\\Arturo\\Arturo HW ITESO\\5to semestre\\Proyecto Ciencia de datos\\apis\\Lib\\site-packages\\sklearn\\metrics\\_regression.py:492: FutureWarning: 'squared' is deprecated in version 1.4 and will be removed in 1.6. To calculate the root mean squared error, use the function'root_mean_squared_error'.\n",
      "  warnings.warn(\n",
      "\n",
      "2024/09/20 19:12:41 WARNING mlflow.models.model: Model logged without a signature and input example. Please set `input_example` parameter when logging the model to auto infer the model signature.\n",
      "\n",
      "2024/09/20 19:12:46 INFO mlflow.tracking._tracking_service.client: 🏃 View run bemused-sheep-663 at: https://dagshub.com/arturotowers/nyc-taxi-time-prediction.mlflow/#/experiments/2/runs/4905c06360854e1aa6ce03c8a6af0752.\n",
      "\n",
      "2024/09/20 19:12:46 INFO mlflow.tracking._tracking_service.client: 🧪 View experiment at: https://dagshub.com/arturotowers/nyc-taxi-time-prediction.mlflow/#/experiments/2.\n",
      "\n"
     ]
    },
    {
     "name": "stdout",
     "output_type": "stream",
     "text": [
      " 30%|███████████████                                   | 3/10 [01:21<03:22, 28.87s/trial, best loss: 5.150663351132724]"
     ]
    },
    {
     "name": "stderr",
     "output_type": "stream",
     "text": [
      "C:\\Users\\ctorr\\OneDrive\\Documentos\\Arturo\\Arturo HW ITESO\\5to semestre\\Proyecto Ciencia de datos\\apis\\Lib\\site-packages\\sklearn\\metrics\\_regression.py:492: FutureWarning: 'squared' is deprecated in version 1.4 and will be removed in 1.6. To calculate the root mean squared error, use the function'root_mean_squared_error'.\n",
      "  warnings.warn(\n",
      "\n",
      "2024/09/20 19:13:05 WARNING mlflow.models.model: Model logged without a signature and input example. Please set `input_example` parameter when logging the model to auto infer the model signature.\n",
      "\n",
      "2024/09/20 19:13:08 INFO mlflow.tracking._tracking_service.client: 🏃 View run puzzled-smelt-784 at: https://dagshub.com/arturotowers/nyc-taxi-time-prediction.mlflow/#/experiments/2/runs/025a662a104c449aae934e9fb466cd94.\n",
      "\n",
      "2024/09/20 19:13:08 INFO mlflow.tracking._tracking_service.client: 🧪 View experiment at: https://dagshub.com/arturotowers/nyc-taxi-time-prediction.mlflow/#/experiments/2.\n",
      "\n"
     ]
    },
    {
     "name": "stdout",
     "output_type": "stream",
     "text": [
      " 40%|████████████████████                              | 4/10 [01:42<02:35, 25.94s/trial, best loss: 5.150663351132724]"
     ]
    },
    {
     "name": "stderr",
     "output_type": "stream",
     "text": [
      "C:\\Users\\ctorr\\OneDrive\\Documentos\\Arturo\\Arturo HW ITESO\\5to semestre\\Proyecto Ciencia de datos\\apis\\Lib\\site-packages\\sklearn\\metrics\\_regression.py:492: FutureWarning: 'squared' is deprecated in version 1.4 and will be removed in 1.6. To calculate the root mean squared error, use the function'root_mean_squared_error'.\n",
      "  warnings.warn(\n",
      "\n",
      "2024/09/20 19:14:11 WARNING mlflow.models.model: Model logged without a signature and input example. Please set `input_example` parameter when logging the model to auto infer the model signature.\n",
      "\n",
      "2024/09/20 19:14:20 INFO mlflow.tracking._tracking_service.client: 🏃 View run melodic-shoat-582 at: https://dagshub.com/arturotowers/nyc-taxi-time-prediction.mlflow/#/experiments/2/runs/305fb9ab8cdc4358a9d318e77b56b6b2.\n",
      "\n",
      "2024/09/20 19:14:20 INFO mlflow.tracking._tracking_service.client: 🧪 View experiment at: https://dagshub.com/arturotowers/nyc-taxi-time-prediction.mlflow/#/experiments/2.\n",
      "\n"
     ]
    },
    {
     "name": "stdout",
     "output_type": "stream",
     "text": [
      " 50%|█████████████████████████▌                         | 5/10 [02:55<03:33, 42.68s/trial, best loss: 5.13993890221879]"
     ]
    },
    {
     "name": "stderr",
     "output_type": "stream",
     "text": [
      "C:\\Users\\ctorr\\OneDrive\\Documentos\\Arturo\\Arturo HW ITESO\\5to semestre\\Proyecto Ciencia de datos\\apis\\Lib\\site-packages\\sklearn\\metrics\\_regression.py:492: FutureWarning: 'squared' is deprecated in version 1.4 and will be removed in 1.6. To calculate the root mean squared error, use the function'root_mean_squared_error'.\n",
      "  warnings.warn(\n",
      "\n",
      "2024/09/20 19:14:46 WARNING mlflow.models.model: Model logged without a signature and input example. Please set `input_example` parameter when logging the model to auto infer the model signature.\n",
      "\n",
      "2024/09/20 19:14:50 INFO mlflow.tracking._tracking_service.client: 🏃 View run amazing-crane-355 at: https://dagshub.com/arturotowers/nyc-taxi-time-prediction.mlflow/#/experiments/2/runs/4f27e6207b0c455ea360b0580558eacb.\n",
      "\n",
      "2024/09/20 19:14:50 INFO mlflow.tracking._tracking_service.client: 🧪 View experiment at: https://dagshub.com/arturotowers/nyc-taxi-time-prediction.mlflow/#/experiments/2.\n",
      "\n"
     ]
    },
    {
     "name": "stdout",
     "output_type": "stream",
     "text": [
      " 60%|██████████████████████████████▌                    | 6/10 [03:24<02:33, 38.36s/trial, best loss: 5.13993890221879]"
     ]
    },
    {
     "name": "stderr",
     "output_type": "stream",
     "text": [
      "C:\\Users\\ctorr\\OneDrive\\Documentos\\Arturo\\Arturo HW ITESO\\5to semestre\\Proyecto Ciencia de datos\\apis\\Lib\\site-packages\\sklearn\\metrics\\_regression.py:492: FutureWarning: 'squared' is deprecated in version 1.4 and will be removed in 1.6. To calculate the root mean squared error, use the function'root_mean_squared_error'.\n",
      "  warnings.warn(\n",
      "\n",
      "2024/09/20 19:15:14 WARNING mlflow.models.model: Model logged without a signature and input example. Please set `input_example` parameter when logging the model to auto infer the model signature.\n",
      "\n",
      "2024/09/20 19:15:18 INFO mlflow.tracking._tracking_service.client: 🏃 View run capricious-shark-563 at: https://dagshub.com/arturotowers/nyc-taxi-time-prediction.mlflow/#/experiments/2/runs/71e7e3b9e70c4022bfa7e770bf649864.\n",
      "\n",
      "2024/09/20 19:15:18 INFO mlflow.tracking._tracking_service.client: 🧪 View experiment at: https://dagshub.com/arturotowers/nyc-taxi-time-prediction.mlflow/#/experiments/2.\n",
      "\n"
     ]
    },
    {
     "name": "stdout",
     "output_type": "stream",
     "text": [
      " 70%|███████████████████████████████████▋               | 7/10 [03:52<01:44, 34.87s/trial, best loss: 5.13993890221879]"
     ]
    },
    {
     "name": "stderr",
     "output_type": "stream",
     "text": [
      "C:\\Users\\ctorr\\OneDrive\\Documentos\\Arturo\\Arturo HW ITESO\\5to semestre\\Proyecto Ciencia de datos\\apis\\Lib\\site-packages\\sklearn\\metrics\\_regression.py:492: FutureWarning: 'squared' is deprecated in version 1.4 and will be removed in 1.6. To calculate the root mean squared error, use the function'root_mean_squared_error'.\n",
      "  warnings.warn(\n",
      "\n",
      "2024/09/20 19:16:06 WARNING mlflow.models.model: Model logged without a signature and input example. Please set `input_example` parameter when logging the model to auto infer the model signature.\n",
      "\n",
      "2024/09/20 19:16:14 INFO mlflow.tracking._tracking_service.client: 🏃 View run treasured-smelt-217 at: https://dagshub.com/arturotowers/nyc-taxi-time-prediction.mlflow/#/experiments/2/runs/15a3f04b2d734912a7cdf0abe6a8ca96.\n",
      "\n",
      "2024/09/20 19:16:14 INFO mlflow.tracking._tracking_service.client: 🧪 View experiment at: https://dagshub.com/arturotowers/nyc-taxi-time-prediction.mlflow/#/experiments/2.\n",
      "\n"
     ]
    },
    {
     "name": "stdout",
     "output_type": "stream",
     "text": [
      " 80%|████████████████████████████████████████▊          | 8/10 [04:48<01:23, 41.69s/trial, best loss: 5.13993890221879]"
     ]
    },
    {
     "name": "stderr",
     "output_type": "stream",
     "text": [
      "C:\\Users\\ctorr\\OneDrive\\Documentos\\Arturo\\Arturo HW ITESO\\5to semestre\\Proyecto Ciencia de datos\\apis\\Lib\\site-packages\\sklearn\\metrics\\_regression.py:492: FutureWarning: 'squared' is deprecated in version 1.4 and will be removed in 1.6. To calculate the root mean squared error, use the function'root_mean_squared_error'.\n",
      "  warnings.warn(\n",
      "\n",
      "2024/09/20 19:16:41 WARNING mlflow.models.model: Model logged without a signature and input example. Please set `input_example` parameter when logging the model to auto infer the model signature.\n",
      "\n",
      "2024/09/20 19:16:47 INFO mlflow.tracking._tracking_service.client: 🏃 View run salty-flea-901 at: https://dagshub.com/arturotowers/nyc-taxi-time-prediction.mlflow/#/experiments/2/runs/cc3750a9abf04f9584b3cd9738b0f29a.\n",
      "\n",
      "2024/09/20 19:16:47 INFO mlflow.tracking._tracking_service.client: 🧪 View experiment at: https://dagshub.com/arturotowers/nyc-taxi-time-prediction.mlflow/#/experiments/2.\n",
      "\n"
     ]
    },
    {
     "name": "stdout",
     "output_type": "stream",
     "text": [
      " 90%|█████████████████████████████████████████████▉     | 9/10 [05:22<00:39, 39.01s/trial, best loss: 5.13993890221879]"
     ]
    },
    {
     "name": "stderr",
     "output_type": "stream",
     "text": [
      "C:\\Users\\ctorr\\OneDrive\\Documentos\\Arturo\\Arturo HW ITESO\\5to semestre\\Proyecto Ciencia de datos\\apis\\Lib\\site-packages\\sklearn\\metrics\\_regression.py:492: FutureWarning: 'squared' is deprecated in version 1.4 and will be removed in 1.6. To calculate the root mean squared error, use the function'root_mean_squared_error'.\n",
      "  warnings.warn(\n",
      "\n",
      "2024/09/20 19:17:59 WARNING mlflow.models.model: Model logged without a signature and input example. Please set `input_example` parameter when logging the model to auto infer the model signature.\n",
      "\n",
      "2024/09/20 19:18:07 INFO mlflow.tracking._tracking_service.client: 🏃 View run thundering-rat-712 at: https://dagshub.com/arturotowers/nyc-taxi-time-prediction.mlflow/#/experiments/2/runs/f19b7c749f334ed19f247e5a4ef0b68a.\n",
      "\n",
      "2024/09/20 19:18:07 INFO mlflow.tracking._tracking_service.client: 🧪 View experiment at: https://dagshub.com/arturotowers/nyc-taxi-time-prediction.mlflow/#/experiments/2.\n",
      "\n"
     ]
    },
    {
     "name": "stdout",
     "output_type": "stream",
     "text": [
      "100%|██████████████████████████████████████████████████| 10/10 [06:41<00:00, 40.19s/trial, best loss: 5.13993890221879]\n"
     ]
    },
    {
     "name": "stderr",
     "output_type": "stream",
     "text": [
      "C:\\Users\\ctorr\\OneDrive\\Documentos\\Arturo\\Arturo HW ITESO\\5to semestre\\Proyecto Ciencia de datos\\apis\\Lib\\site-packages\\sklearn\\metrics\\_regression.py:492: FutureWarning: 'squared' is deprecated in version 1.4 and will be removed in 1.6. To calculate the root mean squared error, use the function'root_mean_squared_error'.\n",
      "  warnings.warn(\n",
      "2024/09/20 19:19:08 INFO mlflow.tracking._tracking_service.client: 🏃 View run GradientBoosting Hyper-parameter Optimization at: https://dagshub.com/arturotowers/nyc-taxi-time-prediction.mlflow/#/experiments/2/runs/153069cf7f9840d996517f0976673cd5.\n",
      "2024/09/20 19:19:08 INFO mlflow.tracking._tracking_service.client: 🧪 View experiment at: https://dagshub.com/arturotowers/nyc-taxi-time-prediction.mlflow/#/experiments/2.\n"
     ]
    }
   ],
   "source": [
    "# Definir el espacio de búsqueda para GradientBoosting\n",
    "search_space_gb = {\n",
    "    'n_estimators': scope.int(hp.quniform('n_estimators', 100, 500, 1)),\n",
    "    'max_depth': scope.int(hp.quniform('max_depth', 3, 30, 1)),\n",
    "    'learning_rate': hp.loguniform('learning_rate', -3, 0),\n",
    "    'subsample': hp.uniform('subsample', 0.5, 1.0),\n",
    "    'min_samples_split': scope.int(hp.quniform('min_samples_split', 2, 10, 1)),\n",
    "    'min_samples_leaf': scope.int(hp.quniform('min_samples_leaf', 1, 4, 1))\n",
    "}\n",
    "\n",
    "# Realizar la búsqueda de hiperparámetros\n",
    "with mlflow.start_run(run_name=\"GradientBoosting Hyper-parameter Optimization\", nested=True):\n",
    "    best_params_gb = fmin(\n",
    "        fn=objective_gb,\n",
    "        space=search_space_gb,\n",
    "        algo=tpe.suggest,\n",
    "        max_evals=10,\n",
    "        trials=Trials()\n",
    "    )\n",
    "\n",
    "    best_params_gb['n_estimators'] = int(best_params_gb['n_estimators'])\n",
    "    best_params_gb['max_depth'] = int(best_params_gb['max_depth'])\n",
    "    best_params_gb['min_samples_split'] = int(best_params_gb['min_samples_split'])\n",
    "    best_params_gb['min_samples_leaf'] = int(best_params_gb['min_samples_leaf'])\n",
    "    # Registrar los mejores parámetros\n",
    "    mlflow.log_params(best_params_gb)\n",
    "\n",
    "    # Etiquetas del modelo\n",
    "    mlflow.set_tags({\n",
    "        \"project\": \"NYC Taxi Time Prediction Project\",\n",
    "        \"optimizer_engine\": \"hyper-opt\",\n",
    "        \"model_family\": \"GradientBoosting\",\n",
    "        \"feature_set_version\": 1\n",
    "    })\n",
    "\n",
    "    # Entrenar y registrar el mejor modelo\n",
    "    best_model_gb = GradientBoostingRegressor(**best_params_gb)\n",
    "    best_model_gb.fit(X_train, y_train)\n",
    "    \n",
    "    y_pred_gb = best_model_gb.predict(X_val)\n",
    "    rmse_gb = mean_squared_error(y_val, y_pred_gb, squared=False)\n",
    "    mlflow.log_metric(\"rmse\", rmse_gb)\n",
    "\n",
    "    pathlib.Path(\"models\").mkdir(exist_ok=True)\n",
    "    with open(\"models/preprocessor.b\", \"wb\") as f_out:\n",
    "        pickle.dump(dv, f_out)\n",
    "\n",
    "    mlflow.log_artifact(\"models/preprocessor.b\", artifact_path=\"preprocessor\")"
   ]
  },
  {
   "cell_type": "code",
   "execution_count": 24,
   "id": "2d360345-6f26-4195-a0a6-5799c0dba662",
   "metadata": {},
   "outputs": [
    {
     "name": "stdout",
     "output_type": "stream",
     "text": [
      "RMSE GradientBoostingRegressor: 5.134557911510872\n",
      "RMSE RandomForestRegressor: 9.098692327125566\n"
     ]
    }
   ],
   "source": [
    "print(f\"RMSE GradientBoostingRegressor: {rmse_gb}\")\n",
    "print(f\"RMSE RandomForestRegressor: {rmse_rf}\")"
   ]
  },
  {
   "cell_type": "code",
   "execution_count": 26,
   "id": "9358a667-1a01-4a00-a713-99ffd725abb3",
   "metadata": {},
   "outputs": [
    {
     "name": "stdout",
     "output_type": "stream",
     "text": [
      "Mejor modelo: GradientBoostingRegressor con RMSE: 5.134557911510872\n"
     ]
    }
   ],
   "source": [
    "if rmse_gb < rmse_rf:\n",
    "    best_rmse = rmse_gb\n",
    "    best_model_name = \"GradientBoostingRegressor\"\n",
    "else:\n",
    "    best_rmse = rmse_rf\n",
    "    best_model_name = \"RandomForestRegressor\"\n",
    "\n",
    "print(f\"Mejor modelo: {best_model_name} con RMSE: {best_rmse}\")"
   ]
  },
  {
   "cell_type": "code",
   "execution_count": 32,
   "id": "ae6bda52-6eb0-414e-8dea-f595c611eda2",
   "metadata": {},
   "outputs": [
    {
     "name": "stderr",
     "output_type": "stream",
     "text": [
      "Registered model 'nyc-taxi-model' already exists. Creating a new version of this model...\n",
      "2024/09/20 19:47:34 INFO mlflow.store.model_registry.abstract_store: Waiting up to 300 seconds for model version to finish creation. Model name: nyc-taxi-model, version 4\n",
      "Created version '4' of model 'nyc-taxi-model'.\n"
     ]
    }
   ],
   "source": [
    "# Registrar el mejor modelo en el model registry\n",
    "best_run_id = \"153069cf7f9840d996517f0976673cd5\"\n",
    "model_uri=f\"runs:/{best_run_id}/model\"\n",
    "result = mlflow.register_model(model_uri, \"nyc-taxi-model\")"
   ]
  },
  {
   "cell_type": "code",
   "execution_count": 33,
   "id": "26304919-481b-4e1e-8e14-229570cc0e70",
   "metadata": {},
   "outputs": [
    {
     "data": {
      "text/plain": [
       "<ModelVersion: aliases=['challenger'], creation_timestamp=1726882813057, current_stage='Staging', description=('The model version 1 was transitioned to challenger on 2024-09-20 '\n",
       " '19:48:23.687389'), last_updated_timestamp=1726883304450, name='nyc-taxi-model', run_id='153069cf7f9840d996517f0976673cd5', run_link='', source='mlflow-artifacts:/28559c146958489da93a281d752509c1/153069cf7f9840d996517f0976673cd5/artifacts/model', status='READY', status_message='', tags={}, user_id='', version='1'>"
      ]
     },
     "execution_count": 33,
     "metadata": {},
     "output_type": "execute_result"
    }
   ],
   "source": [
    "from datetime import datetime\n",
    "from mlflow import MlflowClient\n",
    "\n",
    "client = MlflowClient(tracking_uri=MLFLOW_TRACKING_URI)\n",
    "client.update_registered_model(\n",
    "    name=\"nyc-taxi-model\",\n",
    "    description=\"Best model of HW 5\",\n",
    ")\n",
    "\n",
    "new_alias = \"challenger\"\n",
    "date = datetime.today()\n",
    "model_version = \"1\"\n",
    "\n",
    "client.set_registered_model_alias(\n",
    "    name=\"nyc-taxi-model\",\n",
    "    alias=new_alias,\n",
    "    version=model_version\n",
    ")\n",
    "\n",
    "client.update_model_version(\n",
    "    name=\"nyc-taxi-model\",\n",
    "    version=model_version,\n",
    "    description=f\"The model version {model_version} was transitioned to {new_alias} on {date}\",\n",
    ")"
   ]
  },
  {
   "cell_type": "code",
   "execution_count": 34,
   "id": "8270f6f9-e2fc-4034-a390-36d2cbcf808e",
   "metadata": {},
   "outputs": [
    {
     "name": "stderr",
     "output_type": "stream",
     "text": [
      "  % Total    % Received % Xferd  Average Speed   Time    Time     Time  Current\n",
      "                                 Dload  Upload   Total   Spent    Left  Speed\n",
      "\n",
      "  0     0    0     0    0     0      0      0 --:--:-- --:--:-- --:--:--     0\n",
      "100 1340k  100 1340k    0     0  2471k      0 --:--:-- --:--:-- --:--:-- 2486k\n"
     ]
    }
   ],
   "source": [
    "!curl -o ../data/green_tripdata_2024-03.parquet https://d37ci6vzurychx.cloudfront.net/trip-data/green_tripdata_2024-03.parquet"
   ]
  },
  {
   "cell_type": "code",
   "execution_count": null,
   "id": "d7cef668-850c-4db4-9087-221a4defcbd6",
   "metadata": {},
   "outputs": [],
   "source": []
  }
 ],
 "metadata": {
  "kernelspec": {
   "display_name": "fast_api",
   "language": "python",
   "name": "fast_api"
  },
  "language_info": {
   "codemirror_mode": {
    "name": "ipython",
    "version": 3
   },
   "file_extension": ".py",
   "mimetype": "text/x-python",
   "name": "python",
   "nbconvert_exporter": "python",
   "pygments_lexer": "ipython3",
   "version": "3.12.3"
  }
 },
 "nbformat": 4,
 "nbformat_minor": 5
}
